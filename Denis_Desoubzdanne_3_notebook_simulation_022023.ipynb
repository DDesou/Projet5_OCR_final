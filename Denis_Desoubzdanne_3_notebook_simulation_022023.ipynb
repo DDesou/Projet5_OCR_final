{
 "cells": [
  {
   "attachments": {},
   "cell_type": "markdown",
   "metadata": {},
   "source": [
    "Kernel : base (Python 3.9.7) conda environnement"
   ]
  },
  {
   "attachments": {},
   "cell_type": "markdown",
   "metadata": {},
   "source": [
    "# I. RECUP DF7 et mise en forme"
   ]
  },
  {
   "attachments": {},
   "cell_type": "markdown",
   "metadata": {},
   "source": [
    "Installer packages/librairies nécessaires"
   ]
  },
  {
   "cell_type": "code",
   "execution_count": 1,
   "metadata": {},
   "outputs": [],
   "source": [
    "import matplotlib.pyplot as plt\n",
    "import numpy as np\n",
    "import pandas as pd\n",
    "import plotly.express as px\n",
    "import plotly.graph_objects as go\n",
    "import seaborn as sns\n",
    "import os\n",
    "from os import listdir\n",
    "import missingno as msno\n",
    "from zipfile import ZipFile\n",
    "import requests\n",
    "import math\n",
    "from numpy import loadtxt\n",
    "\n",
    "from sklearn.preprocessing import StandardScaler, MinMaxScaler\n",
    "from sklearn.cluster import KMeans, AgglomerativeClustering, DBSCAN\n",
    "from sklearn.decomposition import PCA\n",
    "\n",
    "from yellowbrick.cluster import KElbowVisualizer, SilhouetteVisualizer\n",
    "\n",
    "from sklearn import (manifold, datasets, decomposition, ensemble,discriminant_analysis, random_projection)\n",
    "from sklearn.metrics import silhouette_score, adjusted_rand_score\n",
    "from matplotlib import offsetbox\n",
    "\n",
    "import datetime\n",
    "\n",
    "from scipy.cluster import hierarchy\n",
    "\n",
    "import warnings\n",
    "warnings.filterwarnings('ignore')"
   ]
  },
  {
   "attachments": {},
   "cell_type": "markdown",
   "metadata": {},
   "source": [
    "palette"
   ]
  },
  {
   "cell_type": "code",
   "execution_count": 2,
   "metadata": {},
   "outputs": [],
   "source": [
    "jaune ='#FFCA18'\n",
    "rouge ='#88001B'\n",
    "bleu ='#000064'\n",
    "vert ='#055D00'\n",
    "choco = '#4b2312'\n",
    "orange = '#FF6103'\n",
    "magenta = '#FF00FF'\n",
    "pastel = ['#FFE06F','#FF9594','#78CF80','#FFB178','#A7B9FF','#FDE8D8']\n",
    "pastel2 = [rouge, jaune, bleu, vert, choco, orange, magenta]"
   ]
  },
  {
   "attachments": {},
   "cell_type": "markdown",
   "metadata": {},
   "source": [
    "Definir l'environnement de travail"
   ]
  },
  {
   "cell_type": "code",
   "execution_count": 3,
   "metadata": {},
   "outputs": [],
   "source": [
    "path_to_dir=os.path.abspath(os.getcwd())"
   ]
  },
  {
   "attachments": {},
   "cell_type": "markdown",
   "metadata": {},
   "source": [
    "Créer un sous-dossier 'images' dans le dossier de travail"
   ]
  },
  {
   "cell_type": "code",
   "execution_count": 4,
   "metadata": {},
   "outputs": [
    {
     "name": "stdout",
     "output_type": "stream",
     "text": [
      "[WinError 183] Impossible de créer un fichier déjà existant: 'c:\\\\Users\\\\denis\\\\OneDrive\\\\Documents\\\\Denis\\\\Formation_OpenClassRooms\\\\Projet5\\\\images'\n"
     ]
    }
   ],
   "source": [
    "directory = 'images'\n",
    "images = os.path.join(path_to_dir, directory)\n",
    "\n",
    "try: \n",
    "    os.mkdir(images) \n",
    "except OSError as error: \n",
    "    print(error)"
   ]
  },
  {
   "attachments": {},
   "cell_type": "markdown",
   "metadata": {},
   "source": [
    "Ouvrir df7"
   ]
  },
  {
   "cell_type": "code",
   "execution_count": 5,
   "metadata": {},
   "outputs": [
    {
     "data": {
      "text/plain": [
       "['df13.csv', 'df7.csv', 'df8.csv']"
      ]
     },
     "execution_count": 5,
     "metadata": {},
     "output_type": "execute_result"
    }
   ],
   "source": [
    "def csv_files(path_to_dir=f'{path_to_dir}/export', suffix=\".csv\"):\n",
    "    filenames = listdir(path_to_dir)\n",
    "    return [filename for filename in filenames if filename.endswith(suffix)]\n",
    "\n",
    "\n",
    "csv_files()"
   ]
  },
  {
   "cell_type": "code",
   "execution_count": 6,
   "metadata": {},
   "outputs": [
    {
     "data": {
      "text/html": [
       "<div>\n",
       "<style scoped>\n",
       "    .dataframe tbody tr th:only-of-type {\n",
       "        vertical-align: middle;\n",
       "    }\n",
       "\n",
       "    .dataframe tbody tr th {\n",
       "        vertical-align: top;\n",
       "    }\n",
       "\n",
       "    .dataframe thead th {\n",
       "        text-align: right;\n",
       "    }\n",
       "</style>\n",
       "<table border=\"1\" class=\"dataframe\">\n",
       "  <thead>\n",
       "    <tr style=\"text-align: right;\">\n",
       "      <th></th>\n",
       "      <th>customer_id</th>\n",
       "      <th>customer_unique_id</th>\n",
       "      <th>order_id</th>\n",
       "      <th>order_purchase_timestamp</th>\n",
       "      <th>order_delivered_carrier_date</th>\n",
       "      <th>order_delivered_customer_date</th>\n",
       "      <th>order_estimated_delivery_date</th>\n",
       "      <th>geolocation_lat</th>\n",
       "      <th>geolocation_lng</th>\n",
       "      <th>review_score</th>\n",
       "      <th>...</th>\n",
       "      <th>payment_value</th>\n",
       "      <th>payment_installments</th>\n",
       "      <th>order_status_approved</th>\n",
       "      <th>order_status_canceled</th>\n",
       "      <th>order_status_created</th>\n",
       "      <th>order_status_delivered</th>\n",
       "      <th>order_status_invoiced</th>\n",
       "      <th>order_status_processing</th>\n",
       "      <th>order_status_shipped</th>\n",
       "      <th>order_status_unavailable</th>\n",
       "    </tr>\n",
       "  </thead>\n",
       "  <tbody>\n",
       "    <tr>\n",
       "      <th>0</th>\n",
       "      <td>06b8999e2fba1a1fbc88172c00ba8bc7</td>\n",
       "      <td>861eff4711a542e4b93843c6dd7febb0</td>\n",
       "      <td>00e7ee1b050b8499577073aeb2a297a1</td>\n",
       "      <td>2017-05-16 15:05:35</td>\n",
       "      <td>2017-05-23 10:47:57</td>\n",
       "      <td>2017-05-25 10:35:35</td>\n",
       "      <td>2017-06-05</td>\n",
       "      <td>-23.155308</td>\n",
       "      <td>-47.084074</td>\n",
       "      <td>4.0</td>\n",
       "      <td>...</td>\n",
       "      <td>146.87</td>\n",
       "      <td>2.0</td>\n",
       "      <td>0</td>\n",
       "      <td>0</td>\n",
       "      <td>0</td>\n",
       "      <td>1</td>\n",
       "      <td>0</td>\n",
       "      <td>0</td>\n",
       "      <td>0</td>\n",
       "      <td>0</td>\n",
       "    </tr>\n",
       "    <tr>\n",
       "      <th>1</th>\n",
       "      <td>18955e83d337fd6b2def6b18a428ac77</td>\n",
       "      <td>290c77bc529b7ac935b93aa66c333dc3</td>\n",
       "      <td>29150127e6685892b6eab3eec79f59c7</td>\n",
       "      <td>2018-01-12 20:48:24</td>\n",
       "      <td>2018-01-15 17:14:59</td>\n",
       "      <td>2018-01-29 12:41:19</td>\n",
       "      <td>2018-02-06</td>\n",
       "      <td>-23.155308</td>\n",
       "      <td>-47.084074</td>\n",
       "      <td>5.0</td>\n",
       "      <td>...</td>\n",
       "      <td>335.48</td>\n",
       "      <td>8.0</td>\n",
       "      <td>0</td>\n",
       "      <td>0</td>\n",
       "      <td>0</td>\n",
       "      <td>1</td>\n",
       "      <td>0</td>\n",
       "      <td>0</td>\n",
       "      <td>0</td>\n",
       "      <td>0</td>\n",
       "    </tr>\n",
       "    <tr>\n",
       "      <th>2</th>\n",
       "      <td>4e7b3e00288586ebd08712fdd0374a03</td>\n",
       "      <td>060e732b5b29e8181a18229c7b0b2b5e</td>\n",
       "      <td>b2059ed67ce144a36e2aa97d2c9e9ad2</td>\n",
       "      <td>2018-05-19 16:07:45</td>\n",
       "      <td>2018-06-11 14:31:00</td>\n",
       "      <td>2018-06-14 17:58:51</td>\n",
       "      <td>2018-06-13</td>\n",
       "      <td>-23.155308</td>\n",
       "      <td>-47.084074</td>\n",
       "      <td>5.0</td>\n",
       "      <td>...</td>\n",
       "      <td>157.73</td>\n",
       "      <td>7.0</td>\n",
       "      <td>0</td>\n",
       "      <td>0</td>\n",
       "      <td>0</td>\n",
       "      <td>1</td>\n",
       "      <td>0</td>\n",
       "      <td>0</td>\n",
       "      <td>0</td>\n",
       "      <td>0</td>\n",
       "    </tr>\n",
       "  </tbody>\n",
       "</table>\n",
       "<p>3 rows × 21 columns</p>\n",
       "</div>"
      ],
      "text/plain": [
       "                        customer_id                customer_unique_id  \\\n",
       "0  06b8999e2fba1a1fbc88172c00ba8bc7  861eff4711a542e4b93843c6dd7febb0   \n",
       "1  18955e83d337fd6b2def6b18a428ac77  290c77bc529b7ac935b93aa66c333dc3   \n",
       "2  4e7b3e00288586ebd08712fdd0374a03  060e732b5b29e8181a18229c7b0b2b5e   \n",
       "\n",
       "                           order_id order_purchase_timestamp  \\\n",
       "0  00e7ee1b050b8499577073aeb2a297a1      2017-05-16 15:05:35   \n",
       "1  29150127e6685892b6eab3eec79f59c7      2018-01-12 20:48:24   \n",
       "2  b2059ed67ce144a36e2aa97d2c9e9ad2      2018-05-19 16:07:45   \n",
       "\n",
       "  order_delivered_carrier_date order_delivered_customer_date  \\\n",
       "0          2017-05-23 10:47:57           2017-05-25 10:35:35   \n",
       "1          2018-01-15 17:14:59           2018-01-29 12:41:19   \n",
       "2          2018-06-11 14:31:00           2018-06-14 17:58:51   \n",
       "\n",
       "  order_estimated_delivery_date  geolocation_lat  geolocation_lng  \\\n",
       "0                    2017-06-05       -23.155308       -47.084074   \n",
       "1                    2018-02-06       -23.155308       -47.084074   \n",
       "2                    2018-06-13       -23.155308       -47.084074   \n",
       "\n",
       "   review_score  ...  payment_value  payment_installments  \\\n",
       "0           4.0  ...         146.87                   2.0   \n",
       "1           5.0  ...         335.48                   8.0   \n",
       "2           5.0  ...         157.73                   7.0   \n",
       "\n",
       "   order_status_approved  order_status_canceled  order_status_created  \\\n",
       "0                      0                      0                     0   \n",
       "1                      0                      0                     0   \n",
       "2                      0                      0                     0   \n",
       "\n",
       "   order_status_delivered  order_status_invoiced  order_status_processing  \\\n",
       "0                       1                      0                        0   \n",
       "1                       1                      0                        0   \n",
       "2                       1                      0                        0   \n",
       "\n",
       "   order_status_shipped  order_status_unavailable  \n",
       "0                     0                         0  \n",
       "1                     0                         0  \n",
       "2                     0                         0  \n",
       "\n",
       "[3 rows x 21 columns]"
      ]
     },
     "execution_count": 6,
     "metadata": {},
     "output_type": "execute_result"
    }
   ],
   "source": [
    "df7 = pd.read_csv('export/df7.csv', sep=',',quotechar='\"')\n",
    "df7.head(3)"
   ]
  },
  {
   "cell_type": "code",
   "execution_count": 7,
   "metadata": {},
   "outputs": [
    {
     "data": {
      "text/plain": [
       "(96096, 99441)"
      ]
     },
     "execution_count": 7,
     "metadata": {},
     "output_type": "execute_result"
    }
   ],
   "source": [
    "len(set(df7['customer_unique_id'])), len(set(df7['customer_id']))"
   ]
  },
  {
   "cell_type": "code",
   "execution_count": 8,
   "metadata": {},
   "outputs": [
    {
     "name": "stdout",
     "output_type": "stream",
     "text": [
      "<class 'pandas.core.frame.DataFrame'>\n",
      "RangeIndex: 99441 entries, 0 to 99440\n",
      "Data columns (total 21 columns):\n",
      " #   Column                         Non-Null Count  Dtype  \n",
      "---  ------                         --------------  -----  \n",
      " 0   customer_id                    99441 non-null  object \n",
      " 1   customer_unique_id             99441 non-null  object \n",
      " 2   order_id                       99441 non-null  object \n",
      " 3   order_purchase_timestamp       99441 non-null  object \n",
      " 4   order_delivered_carrier_date   97658 non-null  object \n",
      " 5   order_delivered_customer_date  96476 non-null  object \n",
      " 6   order_estimated_delivery_date  99441 non-null  object \n",
      " 7   geolocation_lat                99441 non-null  float64\n",
      " 8   geolocation_lng                99441 non-null  float64\n",
      " 9   review_score                   98673 non-null  float64\n",
      " 10  payment_sequential             99440 non-null  float64\n",
      " 11  payment_value                  99440 non-null  float64\n",
      " 12  payment_installments           99440 non-null  float64\n",
      " 13  order_status_approved          99441 non-null  int64  \n",
      " 14  order_status_canceled          99441 non-null  int64  \n",
      " 15  order_status_created           99441 non-null  int64  \n",
      " 16  order_status_delivered         99441 non-null  int64  \n",
      " 17  order_status_invoiced          99441 non-null  int64  \n",
      " 18  order_status_processing        99441 non-null  int64  \n",
      " 19  order_status_shipped           99441 non-null  int64  \n",
      " 20  order_status_unavailable       99441 non-null  int64  \n",
      "dtypes: float64(6), int64(8), object(7)\n",
      "memory usage: 15.9+ MB\n"
     ]
    }
   ],
   "source": [
    "df7.info()"
   ]
  },
  {
   "attachments": {},
   "cell_type": "markdown",
   "metadata": {},
   "source": [
    "Creation des new features"
   ]
  },
  {
   "cell_type": "code",
   "execution_count": 9,
   "metadata": {},
   "outputs": [],
   "source": [
    "df8 = df7.copy()"
   ]
  },
  {
   "cell_type": "code",
   "execution_count": 10,
   "metadata": {},
   "outputs": [],
   "source": [
    "current = np.datetime64(datetime.datetime.now())"
   ]
  },
  {
   "attachments": {},
   "cell_type": "markdown",
   "metadata": {},
   "source": [
    "Convertir les col date (txt) en datetime"
   ]
  },
  {
   "cell_type": "code",
   "execution_count": 11,
   "metadata": {},
   "outputs": [],
   "source": [
    "df8[\"order_purchase_timestamp\"] = pd.to_datetime(df8[\"order_purchase_timestamp\"])\n",
    "df8[\"order_delivered_carrier_date\"] = pd.to_datetime(df8[\"order_delivered_carrier_date\"])\n",
    "df8[\"order_delivered_customer_date\"] = pd.to_datetime(df8[\"order_delivered_customer_date\"])\n",
    "df8[\"order_estimated_delivery_date\"] = pd.to_datetime(df8[\"order_estimated_delivery_date\"])"
   ]
  },
  {
   "cell_type": "code",
   "execution_count": 12,
   "metadata": {},
   "outputs": [],
   "source": [
    "df8.insert(4, 'last_purchase', current-df8['order_purchase_timestamp'])\n",
    "df8.insert(8, 'delta_delivering', df8['order_delivered_customer_date']-df8['order_purchase_timestamp'])"
   ]
  },
  {
   "attachments": {},
   "cell_type": "markdown",
   "metadata": {},
   "source": [
    "# II. Nettoyage df8 et gestion des NaN"
   ]
  },
  {
   "cell_type": "code",
   "execution_count": 13,
   "metadata": {},
   "outputs": [],
   "source": [
    "df9 = df8.copy()"
   ]
  },
  {
   "cell_type": "code",
   "execution_count": 14,
   "metadata": {},
   "outputs": [
    {
     "data": {
      "text/plain": [
       "15"
      ]
     },
     "execution_count": 14,
     "metadata": {},
     "output_type": "execute_result"
    }
   ],
   "source": [
    "df9.columns.get_loc('order_status_approved')"
   ]
  },
  {
   "cell_type": "code",
   "execution_count": 15,
   "metadata": {},
   "outputs": [
    {
     "data": {
      "text/plain": [
       "Index(['customer_id', 'customer_unique_id', 'order_id',\n",
       "       'order_purchase_timestamp', 'last_purchase',\n",
       "       'order_delivered_carrier_date', 'order_delivered_customer_date',\n",
       "       'order_estimated_delivery_date', 'delta_delivering', 'geolocation_lat',\n",
       "       'geolocation_lng', 'review_score', 'payment_sequential',\n",
       "       'payment_value', 'payment_installments', 'order_status_approved',\n",
       "       'order_status_canceled', 'order_status_created',\n",
       "       'order_status_delivered', 'order_status_invoiced',\n",
       "       'order_status_processing', 'order_status_shipped',\n",
       "       'order_status_unavailable'],\n",
       "      dtype='object')"
      ]
     },
     "execution_count": 15,
     "metadata": {},
     "output_type": "execute_result"
    }
   ],
   "source": [
    "df9.columns"
   ]
  },
  {
   "cell_type": "code",
   "execution_count": 16,
   "metadata": {},
   "outputs": [],
   "source": [
    "df9 = df9.drop(columns=df9.columns[15:])\n",
    "df9 = df9.drop(columns=['customer_id', 'order_delivered_carrier_date', 'order_estimated_delivery_date'])"
   ]
  },
  {
   "cell_type": "code",
   "execution_count": 17,
   "metadata": {},
   "outputs": [
    {
     "data": {
      "text/html": [
       "<div>\n",
       "<style scoped>\n",
       "    .dataframe tbody tr th:only-of-type {\n",
       "        vertical-align: middle;\n",
       "    }\n",
       "\n",
       "    .dataframe tbody tr th {\n",
       "        vertical-align: top;\n",
       "    }\n",
       "\n",
       "    .dataframe thead th {\n",
       "        text-align: right;\n",
       "    }\n",
       "</style>\n",
       "<table border=\"1\" class=\"dataframe\">\n",
       "  <thead>\n",
       "    <tr style=\"text-align: right;\">\n",
       "      <th></th>\n",
       "      <th>customer_unique_id</th>\n",
       "      <th>order_id</th>\n",
       "      <th>order_purchase_timestamp</th>\n",
       "      <th>last_purchase</th>\n",
       "      <th>order_delivered_customer_date</th>\n",
       "      <th>delta_delivering</th>\n",
       "      <th>geolocation_lat</th>\n",
       "      <th>geolocation_lng</th>\n",
       "      <th>review_score</th>\n",
       "      <th>payment_sequential</th>\n",
       "      <th>payment_value</th>\n",
       "      <th>payment_installments</th>\n",
       "    </tr>\n",
       "  </thead>\n",
       "  <tbody>\n",
       "    <tr>\n",
       "      <th>0</th>\n",
       "      <td>861eff4711a542e4b93843c6dd7febb0</td>\n",
       "      <td>00e7ee1b050b8499577073aeb2a297a1</td>\n",
       "      <td>2017-05-16 15:05:35</td>\n",
       "      <td>2142 days 17:48:16.278200</td>\n",
       "      <td>2017-05-25 10:35:35</td>\n",
       "      <td>8 days 19:30:00</td>\n",
       "      <td>-23.155308</td>\n",
       "      <td>-47.084074</td>\n",
       "      <td>4.0</td>\n",
       "      <td>1.0</td>\n",
       "      <td>146.87</td>\n",
       "      <td>2.0</td>\n",
       "    </tr>\n",
       "    <tr>\n",
       "      <th>1</th>\n",
       "      <td>290c77bc529b7ac935b93aa66c333dc3</td>\n",
       "      <td>29150127e6685892b6eab3eec79f59c7</td>\n",
       "      <td>2018-01-12 20:48:24</td>\n",
       "      <td>1901 days 12:05:27.278200</td>\n",
       "      <td>2018-01-29 12:41:19</td>\n",
       "      <td>16 days 15:52:55</td>\n",
       "      <td>-23.155308</td>\n",
       "      <td>-47.084074</td>\n",
       "      <td>5.0</td>\n",
       "      <td>1.0</td>\n",
       "      <td>335.48</td>\n",
       "      <td>8.0</td>\n",
       "    </tr>\n",
       "    <tr>\n",
       "      <th>2</th>\n",
       "      <td>060e732b5b29e8181a18229c7b0b2b5e</td>\n",
       "      <td>b2059ed67ce144a36e2aa97d2c9e9ad2</td>\n",
       "      <td>2018-05-19 16:07:45</td>\n",
       "      <td>1774 days 16:46:06.278200</td>\n",
       "      <td>2018-06-14 17:58:51</td>\n",
       "      <td>26 days 01:51:06</td>\n",
       "      <td>-23.155308</td>\n",
       "      <td>-47.084074</td>\n",
       "      <td>5.0</td>\n",
       "      <td>1.0</td>\n",
       "      <td>157.73</td>\n",
       "      <td>7.0</td>\n",
       "    </tr>\n",
       "  </tbody>\n",
       "</table>\n",
       "</div>"
      ],
      "text/plain": [
       "                 customer_unique_id                          order_id  \\\n",
       "0  861eff4711a542e4b93843c6dd7febb0  00e7ee1b050b8499577073aeb2a297a1   \n",
       "1  290c77bc529b7ac935b93aa66c333dc3  29150127e6685892b6eab3eec79f59c7   \n",
       "2  060e732b5b29e8181a18229c7b0b2b5e  b2059ed67ce144a36e2aa97d2c9e9ad2   \n",
       "\n",
       "  order_purchase_timestamp             last_purchase  \\\n",
       "0      2017-05-16 15:05:35 2142 days 17:48:16.278200   \n",
       "1      2018-01-12 20:48:24 1901 days 12:05:27.278200   \n",
       "2      2018-05-19 16:07:45 1774 days 16:46:06.278200   \n",
       "\n",
       "  order_delivered_customer_date delta_delivering  geolocation_lat  \\\n",
       "0           2017-05-25 10:35:35  8 days 19:30:00       -23.155308   \n",
       "1           2018-01-29 12:41:19 16 days 15:52:55       -23.155308   \n",
       "2           2018-06-14 17:58:51 26 days 01:51:06       -23.155308   \n",
       "\n",
       "   geolocation_lng  review_score  payment_sequential  payment_value  \\\n",
       "0       -47.084074           4.0                 1.0         146.87   \n",
       "1       -47.084074           5.0                 1.0         335.48   \n",
       "2       -47.084074           5.0                 1.0         157.73   \n",
       "\n",
       "   payment_installments  \n",
       "0                   2.0  \n",
       "1                   8.0  \n",
       "2                   7.0  "
      ]
     },
     "execution_count": 17,
     "metadata": {},
     "output_type": "execute_result"
    }
   ],
   "source": [
    "df9.head(3)"
   ]
  },
  {
   "cell_type": "code",
   "execution_count": 18,
   "metadata": {},
   "outputs": [
    {
     "data": {
      "text/plain": [
       "(99441, 12)"
      ]
     },
     "execution_count": 18,
     "metadata": {},
     "output_type": "execute_result"
    }
   ],
   "source": [
    "df9.shape"
   ]
  },
  {
   "attachments": {},
   "cell_type": "markdown",
   "metadata": {},
   "source": [
    "Convertir col dates (txt) en datetime"
   ]
  },
  {
   "cell_type": "code",
   "execution_count": 19,
   "metadata": {},
   "outputs": [],
   "source": [
    "df9[\"order_purchase_timestamp\"] = pd.to_datetime(df9[\"order_purchase_timestamp\"])\n",
    "df9[\"order_delivered_customer_date\"] = pd.to_datetime(df9[\"order_delivered_customer_date\"])"
   ]
  },
  {
   "cell_type": "code",
   "execution_count": null,
   "metadata": {},
   "outputs": [
    {
     "data": {
      "text/html": [
       "<div>\n",
       "<style scoped>\n",
       "    .dataframe tbody tr th:only-of-type {\n",
       "        vertical-align: middle;\n",
       "    }\n",
       "\n",
       "    .dataframe tbody tr th {\n",
       "        vertical-align: top;\n",
       "    }\n",
       "\n",
       "    .dataframe thead th {\n",
       "        text-align: right;\n",
       "    }\n",
       "</style>\n",
       "<table border=\"1\" class=\"dataframe\">\n",
       "  <thead>\n",
       "    <tr style=\"text-align: right;\">\n",
       "      <th></th>\n",
       "      <th>count</th>\n",
       "      <th>mean</th>\n",
       "      <th>std</th>\n",
       "      <th>min</th>\n",
       "      <th>25%</th>\n",
       "      <th>50%</th>\n",
       "      <th>75%</th>\n",
       "      <th>max</th>\n",
       "    </tr>\n",
       "  </thead>\n",
       "  <tbody>\n",
       "    <tr>\n",
       "      <th>last_purchase</th>\n",
       "      <td>99441</td>\n",
       "      <td>1909 days 16:51:00.159592960</td>\n",
       "      <td>153 days 16:03:38.785401016</td>\n",
       "      <td>1619 days 08:03:54.936174</td>\n",
       "      <td>1785 days 09:51:56.936174016</td>\n",
       "      <td>1891 days 02:29:36.936174016</td>\n",
       "      <td>2019 days 10:47:53.936174016</td>\n",
       "      <td>2392 days 04:18:53.936174</td>\n",
       "    </tr>\n",
       "    <tr>\n",
       "      <th>delta_delivering</th>\n",
       "      <td>96476</td>\n",
       "      <td>12 days 13:24:31.879068369</td>\n",
       "      <td>9 days 13:07:00.181125305</td>\n",
       "      <td>0 days 12:48:07</td>\n",
       "      <td>6 days 18:23:37.250000</td>\n",
       "      <td>10 days 05:13:34</td>\n",
       "      <td>15 days 17:17:16.250000</td>\n",
       "      <td>209 days 15:05:12</td>\n",
       "    </tr>\n",
       "    <tr>\n",
       "      <th>geolocation_lat</th>\n",
       "      <td>99441.0</td>\n",
       "      <td>-21.166347</td>\n",
       "      <td>5.50597</td>\n",
       "      <td>-29.679191</td>\n",
       "      <td>-23.155308</td>\n",
       "      <td>-23.155308</td>\n",
       "      <td>-19.864647</td>\n",
       "      <td>2.7171</td>\n",
       "    </tr>\n",
       "    <tr>\n",
       "      <th>geolocation_lng</th>\n",
       "      <td>99441.0</td>\n",
       "      <td>-46.210262</td>\n",
       "      <td>3.884026</td>\n",
       "      <td>-68.451852</td>\n",
       "      <td>-47.084074</td>\n",
       "      <td>-47.084074</td>\n",
       "      <td>-44.421615</td>\n",
       "      <td>-35.758866</td>\n",
       "    </tr>\n",
       "    <tr>\n",
       "      <th>review_score</th>\n",
       "      <td>98673.0</td>\n",
       "      <td>4.086793</td>\n",
       "      <td>1.346274</td>\n",
       "      <td>1.0</td>\n",
       "      <td>4.0</td>\n",
       "      <td>5.0</td>\n",
       "      <td>5.0</td>\n",
       "      <td>5.0</td>\n",
       "    </tr>\n",
       "    <tr>\n",
       "      <th>payment_sequential</th>\n",
       "      <td>99440.0</td>\n",
       "      <td>1.045515</td>\n",
       "      <td>0.382177</td>\n",
       "      <td>1.0</td>\n",
       "      <td>1.0</td>\n",
       "      <td>1.0</td>\n",
       "      <td>1.0</td>\n",
       "      <td>29.0</td>\n",
       "    </tr>\n",
       "    <tr>\n",
       "      <th>payment_value</th>\n",
       "      <td>99440.0</td>\n",
       "      <td>160.990267</td>\n",
       "      <td>221.951257</td>\n",
       "      <td>0.0</td>\n",
       "      <td>62.01</td>\n",
       "      <td>105.29</td>\n",
       "      <td>176.97</td>\n",
       "      <td>13664.08</td>\n",
       "    </tr>\n",
       "    <tr>\n",
       "      <th>payment_installments</th>\n",
       "      <td>99440.0</td>\n",
       "      <td>2.930521</td>\n",
       "      <td>2.715685</td>\n",
       "      <td>0.0</td>\n",
       "      <td>1.0</td>\n",
       "      <td>2.0</td>\n",
       "      <td>4.0</td>\n",
       "      <td>24.0</td>\n",
       "    </tr>\n",
       "  </tbody>\n",
       "</table>\n",
       "</div>"
      ],
      "text/plain": [
       "                        count                          mean  \\\n",
       "last_purchase           99441  1909 days 16:51:00.159592960   \n",
       "delta_delivering        96476    12 days 13:24:31.879068369   \n",
       "geolocation_lat       99441.0                    -21.166347   \n",
       "geolocation_lng       99441.0                    -46.210262   \n",
       "review_score          98673.0                      4.086793   \n",
       "payment_sequential    99440.0                      1.045515   \n",
       "payment_value         99440.0                    160.990267   \n",
       "payment_installments  99440.0                      2.930521   \n",
       "\n",
       "                                              std                        min  \\\n",
       "last_purchase         153 days 16:03:38.785401016  1619 days 08:03:54.936174   \n",
       "delta_delivering        9 days 13:07:00.181125305            0 days 12:48:07   \n",
       "geolocation_lat                           5.50597                 -29.679191   \n",
       "geolocation_lng                          3.884026                 -68.451852   \n",
       "review_score                             1.346274                        1.0   \n",
       "payment_sequential                       0.382177                        1.0   \n",
       "payment_value                          221.951257                        0.0   \n",
       "payment_installments                     2.715685                        0.0   \n",
       "\n",
       "                                               25%  \\\n",
       "last_purchase         1785 days 09:51:56.936174016   \n",
       "delta_delivering            6 days 18:23:37.250000   \n",
       "geolocation_lat                         -23.155308   \n",
       "geolocation_lng                         -47.084074   \n",
       "review_score                                   4.0   \n",
       "payment_sequential                             1.0   \n",
       "payment_value                                62.01   \n",
       "payment_installments                           1.0   \n",
       "\n",
       "                                               50%  \\\n",
       "last_purchase         1891 days 02:29:36.936174016   \n",
       "delta_delivering                  10 days 05:13:34   \n",
       "geolocation_lat                         -23.155308   \n",
       "geolocation_lng                         -47.084074   \n",
       "review_score                                   5.0   \n",
       "payment_sequential                             1.0   \n",
       "payment_value                               105.29   \n",
       "payment_installments                           2.0   \n",
       "\n",
       "                                               75%                        max  \n",
       "last_purchase         2019 days 10:47:53.936174016  2392 days 04:18:53.936174  \n",
       "delta_delivering           15 days 17:17:16.250000          209 days 15:05:12  \n",
       "geolocation_lat                         -19.864647                     2.7171  \n",
       "geolocation_lng                         -44.421615                 -35.758866  \n",
       "review_score                                   5.0                        5.0  \n",
       "payment_sequential                             1.0                       29.0  \n",
       "payment_value                               176.97                   13664.08  \n",
       "payment_installments                           4.0                       24.0  "
      ]
     },
     "execution_count": 20,
     "metadata": {},
     "output_type": "execute_result"
    }
   ],
   "source": [
    "df9.describe().T"
   ]
  },
  {
   "attachments": {},
   "cell_type": "markdown",
   "metadata": {},
   "source": [
    "# /!\\ dropna()"
   ]
  },
  {
   "cell_type": "code",
   "execution_count": null,
   "metadata": {},
   "outputs": [],
   "source": [
    "df10 = df9.dropna()"
   ]
  },
  {
   "cell_type": "code",
   "execution_count": null,
   "metadata": {},
   "outputs": [
    {
     "data": {
      "text/html": [
       "<div>\n",
       "<style scoped>\n",
       "    .dataframe tbody tr th:only-of-type {\n",
       "        vertical-align: middle;\n",
       "    }\n",
       "\n",
       "    .dataframe tbody tr th {\n",
       "        vertical-align: top;\n",
       "    }\n",
       "\n",
       "    .dataframe thead th {\n",
       "        text-align: right;\n",
       "    }\n",
       "</style>\n",
       "<table border=\"1\" class=\"dataframe\">\n",
       "  <thead>\n",
       "    <tr style=\"text-align: right;\">\n",
       "      <th></th>\n",
       "      <th>count</th>\n",
       "      <th>mean</th>\n",
       "      <th>std</th>\n",
       "      <th>min</th>\n",
       "      <th>25%</th>\n",
       "      <th>50%</th>\n",
       "      <th>75%</th>\n",
       "      <th>max</th>\n",
       "    </tr>\n",
       "  </thead>\n",
       "  <tbody>\n",
       "    <tr>\n",
       "      <th>last_purchase</th>\n",
       "      <td>95829</td>\n",
       "      <td>1907 days 23:05:45.722230496</td>\n",
       "      <td>152 days 21:14:49.814699854</td>\n",
       "      <td>1668 days 10:33:35.936174</td>\n",
       "      <td>1784 days 01:48:37.936174016</td>\n",
       "      <td>1889 days 02:03:55.936174016</td>\n",
       "      <td>2017 days 15:14:11.936174016</td>\n",
       "      <td>2363 days 15:49:22.936174</td>\n",
       "    </tr>\n",
       "    <tr>\n",
       "      <th>delta_delivering</th>\n",
       "      <td>95829</td>\n",
       "      <td>12 days 12:24:12.796522973</td>\n",
       "      <td>9 days 11:02:20.050401931</td>\n",
       "      <td>0 days 12:48:07</td>\n",
       "      <td>6 days 18:11:21</td>\n",
       "      <td>10 days 04:56:48</td>\n",
       "      <td>15 days 15:56:12</td>\n",
       "      <td>208 days 08:26:32</td>\n",
       "    </tr>\n",
       "    <tr>\n",
       "      <th>geolocation_lat</th>\n",
       "      <td>95829.0</td>\n",
       "      <td>-21.18131</td>\n",
       "      <td>5.496176</td>\n",
       "      <td>-29.679191</td>\n",
       "      <td>-23.155308</td>\n",
       "      <td>-23.155308</td>\n",
       "      <td>-19.864647</td>\n",
       "      <td>2.7171</td>\n",
       "    </tr>\n",
       "    <tr>\n",
       "      <th>geolocation_lng</th>\n",
       "      <td>95829.0</td>\n",
       "      <td>-46.226887</td>\n",
       "      <td>3.882426</td>\n",
       "      <td>-68.451852</td>\n",
       "      <td>-47.084074</td>\n",
       "      <td>-47.084074</td>\n",
       "      <td>-44.421615</td>\n",
       "      <td>-35.758866</td>\n",
       "    </tr>\n",
       "    <tr>\n",
       "      <th>review_score</th>\n",
       "      <td>95829.0</td>\n",
       "      <td>4.156056</td>\n",
       "      <td>1.283711</td>\n",
       "      <td>1.0</td>\n",
       "      <td>4.0</td>\n",
       "      <td>5.0</td>\n",
       "      <td>5.0</td>\n",
       "      <td>5.0</td>\n",
       "    </tr>\n",
       "    <tr>\n",
       "      <th>payment_sequential</th>\n",
       "      <td>95829.0</td>\n",
       "      <td>1.045143</td>\n",
       "      <td>0.371209</td>\n",
       "      <td>1.0</td>\n",
       "      <td>1.0</td>\n",
       "      <td>1.0</td>\n",
       "      <td>1.0</td>\n",
       "      <td>26.0</td>\n",
       "    </tr>\n",
       "    <tr>\n",
       "      <th>payment_value</th>\n",
       "      <td>95829.0</td>\n",
       "      <td>159.590528</td>\n",
       "      <td>217.507603</td>\n",
       "      <td>9.59</td>\n",
       "      <td>61.84</td>\n",
       "      <td>105.28</td>\n",
       "      <td>176.16</td>\n",
       "      <td>13664.08</td>\n",
       "    </tr>\n",
       "    <tr>\n",
       "      <th>payment_installments</th>\n",
       "      <td>95829.0</td>\n",
       "      <td>2.925722</td>\n",
       "      <td>2.710221</td>\n",
       "      <td>0.0</td>\n",
       "      <td>1.0</td>\n",
       "      <td>2.0</td>\n",
       "      <td>4.0</td>\n",
       "      <td>24.0</td>\n",
       "    </tr>\n",
       "  </tbody>\n",
       "</table>\n",
       "</div>"
      ],
      "text/plain": [
       "                        count                          mean  \\\n",
       "last_purchase           95829  1907 days 23:05:45.722230496   \n",
       "delta_delivering        95829    12 days 12:24:12.796522973   \n",
       "geolocation_lat       95829.0                     -21.18131   \n",
       "geolocation_lng       95829.0                    -46.226887   \n",
       "review_score          95829.0                      4.156056   \n",
       "payment_sequential    95829.0                      1.045143   \n",
       "payment_value         95829.0                    159.590528   \n",
       "payment_installments  95829.0                      2.925722   \n",
       "\n",
       "                                              std                        min  \\\n",
       "last_purchase         152 days 21:14:49.814699854  1668 days 10:33:35.936174   \n",
       "delta_delivering        9 days 11:02:20.050401931            0 days 12:48:07   \n",
       "geolocation_lat                          5.496176                 -29.679191   \n",
       "geolocation_lng                          3.882426                 -68.451852   \n",
       "review_score                             1.283711                        1.0   \n",
       "payment_sequential                       0.371209                        1.0   \n",
       "payment_value                          217.507603                       9.59   \n",
       "payment_installments                     2.710221                        0.0   \n",
       "\n",
       "                                               25%  \\\n",
       "last_purchase         1784 days 01:48:37.936174016   \n",
       "delta_delivering                   6 days 18:11:21   \n",
       "geolocation_lat                         -23.155308   \n",
       "geolocation_lng                         -47.084074   \n",
       "review_score                                   4.0   \n",
       "payment_sequential                             1.0   \n",
       "payment_value                                61.84   \n",
       "payment_installments                           1.0   \n",
       "\n",
       "                                               50%  \\\n",
       "last_purchase         1889 days 02:03:55.936174016   \n",
       "delta_delivering                  10 days 04:56:48   \n",
       "geolocation_lat                         -23.155308   \n",
       "geolocation_lng                         -47.084074   \n",
       "review_score                                   5.0   \n",
       "payment_sequential                             1.0   \n",
       "payment_value                               105.28   \n",
       "payment_installments                           2.0   \n",
       "\n",
       "                                               75%                        max  \n",
       "last_purchase         2017 days 15:14:11.936174016  2363 days 15:49:22.936174  \n",
       "delta_delivering                  15 days 15:56:12          208 days 08:26:32  \n",
       "geolocation_lat                         -19.864647                     2.7171  \n",
       "geolocation_lng                         -44.421615                 -35.758866  \n",
       "review_score                                   5.0                        5.0  \n",
       "payment_sequential                             1.0                       26.0  \n",
       "payment_value                               176.16                   13664.08  \n",
       "payment_installments                           4.0                       24.0  "
      ]
     },
     "execution_count": 22,
     "metadata": {},
     "output_type": "execute_result"
    }
   ],
   "source": [
    "df10.describe().T"
   ]
  },
  {
   "cell_type": "code",
   "execution_count": null,
   "metadata": {},
   "outputs": [],
   "source": [
    "df10 = df10[df10['payment_installments']>0]"
   ]
  },
  {
   "cell_type": "code",
   "execution_count": null,
   "metadata": {},
   "outputs": [
    {
     "data": {
      "text/plain": [
       "((95827, 12), (99441, 12))"
      ]
     },
     "execution_count": 24,
     "metadata": {},
     "output_type": "execute_result"
    }
   ],
   "source": [
    "df10.shape, df9.shape"
   ]
  },
  {
   "attachments": {},
   "cell_type": "markdown",
   "metadata": {},
   "source": [
    "# Rename col"
   ]
  },
  {
   "cell_type": "code",
   "execution_count": null,
   "metadata": {},
   "outputs": [],
   "source": [
    "df11 = df10.rename(columns={'customer_unique_id': \"Customer\", 'review_score': 'Satisfaction',\n",
    "                           'last_purchase': 'Recency', 'payment_value': 'Money',\n",
    "                           'delta_delivering': 'Delta_deliv', 'payment_installments': 'Pay_installments',\n",
    "                           'payment_sequential' : 'Pay_sequential',\n",
    "                           'geolocation_lat': 'Lat', 'geolocation_lng' : 'Long'})"
   ]
  },
  {
   "cell_type": "code",
   "execution_count": null,
   "metadata": {},
   "outputs": [
    {
     "data": {
      "text/html": [
       "<div>\n",
       "<style scoped>\n",
       "    .dataframe tbody tr th:only-of-type {\n",
       "        vertical-align: middle;\n",
       "    }\n",
       "\n",
       "    .dataframe tbody tr th {\n",
       "        vertical-align: top;\n",
       "    }\n",
       "\n",
       "    .dataframe thead th {\n",
       "        text-align: right;\n",
       "    }\n",
       "</style>\n",
       "<table border=\"1\" class=\"dataframe\">\n",
       "  <thead>\n",
       "    <tr style=\"text-align: right;\">\n",
       "      <th></th>\n",
       "      <th>Customer</th>\n",
       "      <th>order_id</th>\n",
       "      <th>order_purchase_timestamp</th>\n",
       "      <th>Recency</th>\n",
       "      <th>order_delivered_customer_date</th>\n",
       "      <th>Delta_deliv</th>\n",
       "      <th>Lat</th>\n",
       "      <th>Long</th>\n",
       "      <th>Satisfaction</th>\n",
       "      <th>Pay_sequential</th>\n",
       "      <th>Money</th>\n",
       "      <th>Pay_installments</th>\n",
       "    </tr>\n",
       "  </thead>\n",
       "  <tbody>\n",
       "    <tr>\n",
       "      <th>0</th>\n",
       "      <td>861eff4711a542e4b93843c6dd7febb0</td>\n",
       "      <td>00e7ee1b050b8499577073aeb2a297a1</td>\n",
       "      <td>2017-05-16 15:05:35</td>\n",
       "      <td>2138 days 10:28:37.936174</td>\n",
       "      <td>2017-05-25 10:35:35</td>\n",
       "      <td>8 days 19:30:00</td>\n",
       "      <td>-23.155308</td>\n",
       "      <td>-47.084074</td>\n",
       "      <td>4.0</td>\n",
       "      <td>1.0</td>\n",
       "      <td>146.87</td>\n",
       "      <td>2.0</td>\n",
       "    </tr>\n",
       "    <tr>\n",
       "      <th>1</th>\n",
       "      <td>290c77bc529b7ac935b93aa66c333dc3</td>\n",
       "      <td>29150127e6685892b6eab3eec79f59c7</td>\n",
       "      <td>2018-01-12 20:48:24</td>\n",
       "      <td>1897 days 04:45:48.936174</td>\n",
       "      <td>2018-01-29 12:41:19</td>\n",
       "      <td>16 days 15:52:55</td>\n",
       "      <td>-23.155308</td>\n",
       "      <td>-47.084074</td>\n",
       "      <td>5.0</td>\n",
       "      <td>1.0</td>\n",
       "      <td>335.48</td>\n",
       "      <td>8.0</td>\n",
       "    </tr>\n",
       "    <tr>\n",
       "      <th>2</th>\n",
       "      <td>060e732b5b29e8181a18229c7b0b2b5e</td>\n",
       "      <td>b2059ed67ce144a36e2aa97d2c9e9ad2</td>\n",
       "      <td>2018-05-19 16:07:45</td>\n",
       "      <td>1770 days 09:26:27.936174</td>\n",
       "      <td>2018-06-14 17:58:51</td>\n",
       "      <td>26 days 01:51:06</td>\n",
       "      <td>-23.155308</td>\n",
       "      <td>-47.084074</td>\n",
       "      <td>5.0</td>\n",
       "      <td>1.0</td>\n",
       "      <td>157.73</td>\n",
       "      <td>7.0</td>\n",
       "    </tr>\n",
       "  </tbody>\n",
       "</table>\n",
       "</div>"
      ],
      "text/plain": [
       "                           Customer                          order_id  \\\n",
       "0  861eff4711a542e4b93843c6dd7febb0  00e7ee1b050b8499577073aeb2a297a1   \n",
       "1  290c77bc529b7ac935b93aa66c333dc3  29150127e6685892b6eab3eec79f59c7   \n",
       "2  060e732b5b29e8181a18229c7b0b2b5e  b2059ed67ce144a36e2aa97d2c9e9ad2   \n",
       "\n",
       "  order_purchase_timestamp                   Recency  \\\n",
       "0      2017-05-16 15:05:35 2138 days 10:28:37.936174   \n",
       "1      2018-01-12 20:48:24 1897 days 04:45:48.936174   \n",
       "2      2018-05-19 16:07:45 1770 days 09:26:27.936174   \n",
       "\n",
       "  order_delivered_customer_date      Delta_deliv        Lat       Long  \\\n",
       "0           2017-05-25 10:35:35  8 days 19:30:00 -23.155308 -47.084074   \n",
       "1           2018-01-29 12:41:19 16 days 15:52:55 -23.155308 -47.084074   \n",
       "2           2018-06-14 17:58:51 26 days 01:51:06 -23.155308 -47.084074   \n",
       "\n",
       "   Satisfaction  Pay_sequential   Money  Pay_installments  \n",
       "0           4.0             1.0  146.87               2.0  \n",
       "1           5.0             1.0  335.48               8.0  \n",
       "2           5.0             1.0  157.73               7.0  "
      ]
     },
     "execution_count": 26,
     "metadata": {},
     "output_type": "execute_result"
    }
   ],
   "source": [
    "df11.head(3)"
   ]
  },
  {
   "attachments": {},
   "cell_type": "markdown",
   "metadata": {},
   "source": [
    "# Changement types des col dates"
   ]
  },
  {
   "cell_type": "code",
   "execution_count": null,
   "metadata": {},
   "outputs": [],
   "source": [
    "df11['Recency'] = df11['Recency'].astype('timedelta64[D]').astype(int)\n",
    "df11['Delta_deliv'] = df11['Delta_deliv'].astype('timedelta64[D]').astype(int)"
   ]
  },
  {
   "attachments": {},
   "cell_type": "markdown",
   "metadata": {},
   "source": [
    "# III EDA"
   ]
  },
  {
   "cell_type": "code",
   "execution_count": null,
   "metadata": {},
   "outputs": [],
   "source": [
    "df12 = df11.copy()"
   ]
  },
  {
   "cell_type": "code",
   "execution_count": null,
   "metadata": {},
   "outputs": [
    {
     "data": {
      "text/html": [
       "<div>\n",
       "<style scoped>\n",
       "    .dataframe tbody tr th:only-of-type {\n",
       "        vertical-align: middle;\n",
       "    }\n",
       "\n",
       "    .dataframe tbody tr th {\n",
       "        vertical-align: top;\n",
       "    }\n",
       "\n",
       "    .dataframe thead th {\n",
       "        text-align: right;\n",
       "    }\n",
       "</style>\n",
       "<table border=\"1\" class=\"dataframe\">\n",
       "  <thead>\n",
       "    <tr style=\"text-align: right;\">\n",
       "      <th></th>\n",
       "      <th>count</th>\n",
       "      <th>mean</th>\n",
       "      <th>std</th>\n",
       "      <th>min</th>\n",
       "      <th>25%</th>\n",
       "      <th>50%</th>\n",
       "      <th>75%</th>\n",
       "      <th>max</th>\n",
       "    </tr>\n",
       "  </thead>\n",
       "  <tbody>\n",
       "    <tr>\n",
       "      <th>Recency</th>\n",
       "      <td>95827.0</td>\n",
       "      <td>1907.567784</td>\n",
       "      <td>152.888394</td>\n",
       "      <td>1668.000000</td>\n",
       "      <td>1784.000000</td>\n",
       "      <td>1889.000000</td>\n",
       "      <td>2017.000000</td>\n",
       "      <td>2363.000000</td>\n",
       "    </tr>\n",
       "    <tr>\n",
       "      <th>Delta_deliv</th>\n",
       "      <td>95827.0</td>\n",
       "      <td>12.052438</td>\n",
       "      <td>9.465568</td>\n",
       "      <td>0.000000</td>\n",
       "      <td>6.000000</td>\n",
       "      <td>10.000000</td>\n",
       "      <td>15.000000</td>\n",
       "      <td>208.000000</td>\n",
       "    </tr>\n",
       "    <tr>\n",
       "      <th>Lat</th>\n",
       "      <td>95827.0</td>\n",
       "      <td>-21.181374</td>\n",
       "      <td>5.496166</td>\n",
       "      <td>-29.679191</td>\n",
       "      <td>-23.155308</td>\n",
       "      <td>-23.155308</td>\n",
       "      <td>-19.864647</td>\n",
       "      <td>2.717100</td>\n",
       "    </tr>\n",
       "    <tr>\n",
       "      <th>Long</th>\n",
       "      <td>95827.0</td>\n",
       "      <td>-46.226948</td>\n",
       "      <td>3.882406</td>\n",
       "      <td>-68.451852</td>\n",
       "      <td>-47.084074</td>\n",
       "      <td>-47.084074</td>\n",
       "      <td>-44.421615</td>\n",
       "      <td>-35.758866</td>\n",
       "    </tr>\n",
       "    <tr>\n",
       "      <th>Satisfaction</th>\n",
       "      <td>95827.0</td>\n",
       "      <td>4.156038</td>\n",
       "      <td>1.283719</td>\n",
       "      <td>1.000000</td>\n",
       "      <td>4.000000</td>\n",
       "      <td>5.000000</td>\n",
       "      <td>5.000000</td>\n",
       "      <td>5.000000</td>\n",
       "    </tr>\n",
       "    <tr>\n",
       "      <th>Pay_sequential</th>\n",
       "      <td>95827.0</td>\n",
       "      <td>1.045123</td>\n",
       "      <td>0.371187</td>\n",
       "      <td>1.000000</td>\n",
       "      <td>1.000000</td>\n",
       "      <td>1.000000</td>\n",
       "      <td>1.000000</td>\n",
       "      <td>26.000000</td>\n",
       "    </tr>\n",
       "    <tr>\n",
       "      <th>Money</th>\n",
       "      <td>95827.0</td>\n",
       "      <td>159.591891</td>\n",
       "      <td>217.509608</td>\n",
       "      <td>9.590000</td>\n",
       "      <td>61.840000</td>\n",
       "      <td>105.280000</td>\n",
       "      <td>176.160000</td>\n",
       "      <td>13664.080000</td>\n",
       "    </tr>\n",
       "    <tr>\n",
       "      <th>Pay_installments</th>\n",
       "      <td>95827.0</td>\n",
       "      <td>2.925783</td>\n",
       "      <td>2.710216</td>\n",
       "      <td>1.000000</td>\n",
       "      <td>1.000000</td>\n",
       "      <td>2.000000</td>\n",
       "      <td>4.000000</td>\n",
       "      <td>24.000000</td>\n",
       "    </tr>\n",
       "  </tbody>\n",
       "</table>\n",
       "</div>"
      ],
      "text/plain": [
       "                    count         mean         std          min          25%  \\\n",
       "Recency           95827.0  1907.567784  152.888394  1668.000000  1784.000000   \n",
       "Delta_deliv       95827.0    12.052438    9.465568     0.000000     6.000000   \n",
       "Lat               95827.0   -21.181374    5.496166   -29.679191   -23.155308   \n",
       "Long              95827.0   -46.226948    3.882406   -68.451852   -47.084074   \n",
       "Satisfaction      95827.0     4.156038    1.283719     1.000000     4.000000   \n",
       "Pay_sequential    95827.0     1.045123    0.371187     1.000000     1.000000   \n",
       "Money             95827.0   159.591891  217.509608     9.590000    61.840000   \n",
       "Pay_installments  95827.0     2.925783    2.710216     1.000000     1.000000   \n",
       "\n",
       "                          50%          75%           max  \n",
       "Recency           1889.000000  2017.000000   2363.000000  \n",
       "Delta_deliv         10.000000    15.000000    208.000000  \n",
       "Lat                -23.155308   -19.864647      2.717100  \n",
       "Long               -47.084074   -44.421615    -35.758866  \n",
       "Satisfaction         5.000000     5.000000      5.000000  \n",
       "Pay_sequential       1.000000     1.000000     26.000000  \n",
       "Money              105.280000   176.160000  13664.080000  \n",
       "Pay_installments     2.000000     4.000000     24.000000  "
      ]
     },
     "execution_count": 29,
     "metadata": {},
     "output_type": "execute_result"
    }
   ],
   "source": [
    "df12.describe().T"
   ]
  },
  {
   "cell_type": "code",
   "execution_count": null,
   "metadata": {},
   "outputs": [
    {
     "name": "stdout",
     "output_type": "stream",
     "text": [
      "<class 'pandas.core.frame.DataFrame'>\n",
      "Int64Index: 95827 entries, 0 to 99440\n",
      "Data columns (total 12 columns):\n",
      " #   Column                         Non-Null Count  Dtype         \n",
      "---  ------                         --------------  -----         \n",
      " 0   Customer                       95827 non-null  object        \n",
      " 1   order_id                       95827 non-null  object        \n",
      " 2   order_purchase_timestamp       95827 non-null  datetime64[ns]\n",
      " 3   Recency                        95827 non-null  int32         \n",
      " 4   order_delivered_customer_date  95827 non-null  datetime64[ns]\n",
      " 5   Delta_deliv                    95827 non-null  int32         \n",
      " 6   Lat                            95827 non-null  float64       \n",
      " 7   Long                           95827 non-null  float64       \n",
      " 8   Satisfaction                   95827 non-null  float64       \n",
      " 9   Pay_sequential                 95827 non-null  float64       \n",
      " 10  Money                          95827 non-null  float64       \n",
      " 11  Pay_installments               95827 non-null  float64       \n",
      "dtypes: datetime64[ns](2), float64(6), int32(2), object(2)\n",
      "memory usage: 8.8+ MB\n"
     ]
    }
   ],
   "source": [
    "df12.info()"
   ]
  },
  {
   "cell_type": "code",
   "execution_count": null,
   "metadata": {},
   "outputs": [
    {
     "data": {
      "text/plain": [
       "0"
      ]
     },
     "execution_count": 31,
     "metadata": {},
     "output_type": "execute_result"
    }
   ],
   "source": [
    "df12.isna().sum().sum()"
   ]
  },
  {
   "cell_type": "code",
   "execution_count": null,
   "metadata": {},
   "outputs": [
    {
     "data": {
      "text/plain": [
       "<AxesSubplot:xlabel='order_delivered_customer_date', ylabel='Count'>"
      ]
     },
     "execution_count": 32,
     "metadata": {},
     "output_type": "execute_result"
    },
    {
     "data": {
      "image/png": "[encoded data removed]",
      "text/plain": [
       "<Figure size 576x396 with 1 Axes>"
      ]
     },
     "metadata": {},
     "output_type": "display_data"
    }
   ],
   "source": [
    "sns.histplot(df12['order_delivered_customer_date'], kde=True)"
   ]
  },
  {
   "attachments": {},
   "cell_type": "markdown",
   "metadata": {},
   "source": [
    "Creation new feature delta_time"
   ]
  },
  {
   "cell_type": "code",
   "execution_count": null,
   "metadata": {},
   "outputs": [],
   "source": [
    "delta_time = df12['order_delivered_customer_date'].max()- df12['order_delivered_customer_date'].min()"
   ]
  },
  {
   "cell_type": "code",
   "execution_count": null,
   "metadata": {},
   "outputs": [
    {
     "data": {
      "text/plain": [
       "Timedelta('735 days 23:36:14')"
      ]
     },
     "execution_count": 34,
     "metadata": {},
     "output_type": "execute_result"
    }
   ],
   "source": [
    "delta_time"
   ]
  },
  {
   "cell_type": "code",
   "execution_count": null,
   "metadata": {},
   "outputs": [],
   "source": [
    "df12.insert(3, 'Delta_time', (df12['order_delivered_customer_date'] - df12['order_delivered_customer_date'].min()))"
   ]
  },
  {
   "cell_type": "code",
   "execution_count": null,
   "metadata": {},
   "outputs": [],
   "source": [
    "df12['Delta_time'] = df12['Delta_time'].astype('timedelta64[D]').astype(int)"
   ]
  },
  {
   "cell_type": "code",
   "execution_count": null,
   "metadata": {},
   "outputs": [
    {
     "data": {
      "text/html": [
       "<div>\n",
       "<style scoped>\n",
       "    .dataframe tbody tr th:only-of-type {\n",
       "        vertical-align: middle;\n",
       "    }\n",
       "\n",
       "    .dataframe tbody tr th {\n",
       "        vertical-align: top;\n",
       "    }\n",
       "\n",
       "    .dataframe thead th {\n",
       "        text-align: right;\n",
       "    }\n",
       "</style>\n",
       "<table border=\"1\" class=\"dataframe\">\n",
       "  <thead>\n",
       "    <tr style=\"text-align: right;\">\n",
       "      <th></th>\n",
       "      <th>Customer</th>\n",
       "      <th>order_id</th>\n",
       "      <th>order_purchase_timestamp</th>\n",
       "      <th>Delta_time</th>\n",
       "      <th>Recency</th>\n",
       "      <th>order_delivered_customer_date</th>\n",
       "      <th>Delta_deliv</th>\n",
       "      <th>Lat</th>\n",
       "      <th>Long</th>\n",
       "      <th>Satisfaction</th>\n",
       "      <th>Pay_sequential</th>\n",
       "      <th>Money</th>\n",
       "      <th>Pay_installments</th>\n",
       "    </tr>\n",
       "  </thead>\n",
       "  <tbody>\n",
       "    <tr>\n",
       "      <th>0</th>\n",
       "      <td>861eff4711a542e4b93843c6dd7febb0</td>\n",
       "      <td>00e7ee1b050b8499577073aeb2a297a1</td>\n",
       "      <td>2017-05-16 15:05:35</td>\n",
       "      <td>225</td>\n",
       "      <td>2138</td>\n",
       "      <td>2017-05-25 10:35:35</td>\n",
       "      <td>8</td>\n",
       "      <td>-23.155308</td>\n",
       "      <td>-47.084074</td>\n",
       "      <td>4.0</td>\n",
       "      <td>1.0</td>\n",
       "      <td>146.87</td>\n",
       "      <td>2.0</td>\n",
       "    </tr>\n",
       "    <tr>\n",
       "      <th>1</th>\n",
       "      <td>290c77bc529b7ac935b93aa66c333dc3</td>\n",
       "      <td>29150127e6685892b6eab3eec79f59c7</td>\n",
       "      <td>2018-01-12 20:48:24</td>\n",
       "      <td>474</td>\n",
       "      <td>1897</td>\n",
       "      <td>2018-01-29 12:41:19</td>\n",
       "      <td>16</td>\n",
       "      <td>-23.155308</td>\n",
       "      <td>-47.084074</td>\n",
       "      <td>5.0</td>\n",
       "      <td>1.0</td>\n",
       "      <td>335.48</td>\n",
       "      <td>8.0</td>\n",
       "    </tr>\n",
       "    <tr>\n",
       "      <th>2</th>\n",
       "      <td>060e732b5b29e8181a18229c7b0b2b5e</td>\n",
       "      <td>b2059ed67ce144a36e2aa97d2c9e9ad2</td>\n",
       "      <td>2018-05-19 16:07:45</td>\n",
       "      <td>611</td>\n",
       "      <td>1770</td>\n",
       "      <td>2018-06-14 17:58:51</td>\n",
       "      <td>26</td>\n",
       "      <td>-23.155308</td>\n",
       "      <td>-47.084074</td>\n",
       "      <td>5.0</td>\n",
       "      <td>1.0</td>\n",
       "      <td>157.73</td>\n",
       "      <td>7.0</td>\n",
       "    </tr>\n",
       "    <tr>\n",
       "      <th>3</th>\n",
       "      <td>259dac757896d24d7702b9acbbff3f3c</td>\n",
       "      <td>951670f92359f4fe4a63112aa7306eba</td>\n",
       "      <td>2018-03-13 16:06:38</td>\n",
       "      <td>533</td>\n",
       "      <td>1837</td>\n",
       "      <td>2018-03-28 16:04:25</td>\n",
       "      <td>14</td>\n",
       "      <td>-23.155308</td>\n",
       "      <td>-47.084074</td>\n",
       "      <td>5.0</td>\n",
       "      <td>1.0</td>\n",
       "      <td>173.30</td>\n",
       "      <td>1.0</td>\n",
       "    </tr>\n",
       "    <tr>\n",
       "      <th>4</th>\n",
       "      <td>345ecd01c38d18a9036ed96c73b8d066</td>\n",
       "      <td>6b7d50bd145f6fc7f33cebabd7e49d0f</td>\n",
       "      <td>2018-07-29 09:51:30</td>\n",
       "      <td>667</td>\n",
       "      <td>1699</td>\n",
       "      <td>2018-08-09 20:55:48</td>\n",
       "      <td>11</td>\n",
       "      <td>-23.155308</td>\n",
       "      <td>-47.084074</td>\n",
       "      <td>5.0</td>\n",
       "      <td>1.0</td>\n",
       "      <td>252.25</td>\n",
       "      <td>8.0</td>\n",
       "    </tr>\n",
       "    <tr>\n",
       "      <th>5</th>\n",
       "      <td>4c93744516667ad3b8f1fb645a3116a4</td>\n",
       "      <td>5741ea1f91b5fbab2bd2dc653a5b5099</td>\n",
       "      <td>2017-09-14 18:14:31</td>\n",
       "      <td>352</td>\n",
       "      <td>2017</td>\n",
       "      <td>2017-09-28 17:32:43</td>\n",
       "      <td>13</td>\n",
       "      <td>-27.222486</td>\n",
       "      <td>-49.617937</td>\n",
       "      <td>5.0</td>\n",
       "      <td>1.0</td>\n",
       "      <td>282.21</td>\n",
       "      <td>1.0</td>\n",
       "    </tr>\n",
       "    <tr>\n",
       "      <th>6</th>\n",
       "      <td>addec96d2e059c80c30fe6871d30d177</td>\n",
       "      <td>36e694cf4cbc2a4803200c35e84abdc4</td>\n",
       "      <td>2018-02-19 14:38:35</td>\n",
       "      <td>497</td>\n",
       "      <td>1859</td>\n",
       "      <td>2018-02-20 16:25:51</td>\n",
       "      <td>1</td>\n",
       "      <td>-23.155308</td>\n",
       "      <td>-47.084074</td>\n",
       "      <td>5.0</td>\n",
       "      <td>1.0</td>\n",
       "      <td>22.77</td>\n",
       "      <td>1.0</td>\n",
       "    </tr>\n",
       "    <tr>\n",
       "      <th>7</th>\n",
       "      <td>57b2a98a409812fe9618067b6b8ebe4f</td>\n",
       "      <td>1093c8304c7a003280dd34598194913d</td>\n",
       "      <td>2017-11-16 19:29:02</td>\n",
       "      <td>411</td>\n",
       "      <td>1954</td>\n",
       "      <td>2017-11-27 12:44:36</td>\n",
       "      <td>10</td>\n",
       "      <td>-19.864647</td>\n",
       "      <td>-44.421615</td>\n",
       "      <td>3.0</td>\n",
       "      <td>1.0</td>\n",
       "      <td>36.01</td>\n",
       "      <td>3.0</td>\n",
       "    </tr>\n",
       "    <tr>\n",
       "      <th>8</th>\n",
       "      <td>1175e95fb47ddff9de6b2b06188f7e0d</td>\n",
       "      <td>1ebeea841c590e86a14a0d7a48e7d062</td>\n",
       "      <td>2018-01-18 12:35:44</td>\n",
       "      <td>472</td>\n",
       "      <td>1891</td>\n",
       "      <td>2018-01-26 15:17:57</td>\n",
       "      <td>8</td>\n",
       "      <td>-24.793607</td>\n",
       "      <td>-50.879662</td>\n",
       "      <td>5.0</td>\n",
       "      <td>1.0</td>\n",
       "      <td>39.10</td>\n",
       "      <td>1.0</td>\n",
       "    </tr>\n",
       "    <tr>\n",
       "      <th>9</th>\n",
       "      <td>9afe194fb833f79e300e37e580171f22</td>\n",
       "      <td>7433cbcc783205509d66a5260da5b574</td>\n",
       "      <td>2018-01-08 11:22:34</td>\n",
       "      <td>459</td>\n",
       "      <td>1901</td>\n",
       "      <td>2018-01-13 14:51:55</td>\n",
       "      <td>5</td>\n",
       "      <td>-19.864647</td>\n",
       "      <td>-44.421615</td>\n",
       "      <td>5.0</td>\n",
       "      <td>1.0</td>\n",
       "      <td>122.47</td>\n",
       "      <td>1.0</td>\n",
       "    </tr>\n",
       "  </tbody>\n",
       "</table>\n",
       "</div>"
      ],
      "text/plain": [
       "                           Customer                          order_id  \\\n",
       "0  861eff4711a542e4b93843c6dd7febb0  00e7ee1b050b8499577073aeb2a297a1   \n",
       "1  290c77bc529b7ac935b93aa66c333dc3  29150127e6685892b6eab3eec79f59c7   \n",
       "2  060e732b5b29e8181a18229c7b0b2b5e  b2059ed67ce144a36e2aa97d2c9e9ad2   \n",
       "3  259dac757896d24d7702b9acbbff3f3c  951670f92359f4fe4a63112aa7306eba   \n",
       "4  345ecd01c38d18a9036ed96c73b8d066  6b7d50bd145f6fc7f33cebabd7e49d0f   \n",
       "5  4c93744516667ad3b8f1fb645a3116a4  5741ea1f91b5fbab2bd2dc653a5b5099   \n",
       "6  addec96d2e059c80c30fe6871d30d177  36e694cf4cbc2a4803200c35e84abdc4   \n",
       "7  57b2a98a409812fe9618067b6b8ebe4f  1093c8304c7a003280dd34598194913d   \n",
       "8  1175e95fb47ddff9de6b2b06188f7e0d  1ebeea841c590e86a14a0d7a48e7d062   \n",
       "9  9afe194fb833f79e300e37e580171f22  7433cbcc783205509d66a5260da5b574   \n",
       "\n",
       "  order_purchase_timestamp  Delta_time  Recency order_delivered_customer_date  \\\n",
       "0      2017-05-16 15:05:35         225     2138           2017-05-25 10:35:35   \n",
       "1      2018-01-12 20:48:24         474     1897           2018-01-29 12:41:19   \n",
       "2      2018-05-19 16:07:45         611     1770           2018-06-14 17:58:51   \n",
       "3      2018-03-13 16:06:38         533     1837           2018-03-28 16:04:25   \n",
       "4      2018-07-29 09:51:30         667     1699           2018-08-09 20:55:48   \n",
       "5      2017-09-14 18:14:31         352     2017           2017-09-28 17:32:43   \n",
       "6      2018-02-19 14:38:35         497     1859           2018-02-20 16:25:51   \n",
       "7      2017-11-16 19:29:02         411     1954           2017-11-27 12:44:36   \n",
       "8      2018-01-18 12:35:44         472     1891           2018-01-26 15:17:57   \n",
       "9      2018-01-08 11:22:34         459     1901           2018-01-13 14:51:55   \n",
       "\n",
       "   Delta_deliv        Lat       Long  Satisfaction  Pay_sequential   Money  \\\n",
       "0            8 -23.155308 -47.084074           4.0             1.0  146.87   \n",
       "1           16 -23.155308 -47.084074           5.0             1.0  335.48   \n",
       "2           26 -23.155308 -47.084074           5.0             1.0  157.73   \n",
       "3           14 -23.155308 -47.084074           5.0             1.0  173.30   \n",
       "4           11 -23.155308 -47.084074           5.0             1.0  252.25   \n",
       "5           13 -27.222486 -49.617937           5.0             1.0  282.21   \n",
       "6            1 -23.155308 -47.084074           5.0             1.0   22.77   \n",
       "7           10 -19.864647 -44.421615           3.0             1.0   36.01   \n",
       "8            8 -24.793607 -50.879662           5.0             1.0   39.10   \n",
       "9            5 -19.864647 -44.421615           5.0             1.0  122.47   \n",
       "\n",
       "   Pay_installments  \n",
       "0               2.0  \n",
       "1               8.0  \n",
       "2               7.0  \n",
       "3               1.0  \n",
       "4               8.0  \n",
       "5               1.0  \n",
       "6               1.0  \n",
       "7               3.0  \n",
       "8               1.0  \n",
       "9               1.0  "
      ]
     },
     "execution_count": 37,
     "metadata": {},
     "output_type": "execute_result"
    }
   ],
   "source": [
    "df12.head(10)"
   ]
  },
  {
   "attachments": {},
   "cell_type": "markdown",
   "metadata": {},
   "source": [
    "Convert float to int"
   ]
  },
  {
   "cell_type": "code",
   "execution_count": null,
   "metadata": {},
   "outputs": [],
   "source": [
    "df12['Pay_installments'] = df12['Pay_installments'].astype(int)\n",
    "df12['Pay_sequential'] = df12['Pay_sequential'].astype(int)\n",
    "df12['Satisfaction'] = df12['Satisfaction'].astype(int)"
   ]
  },
  {
   "cell_type": "code",
   "execution_count": null,
   "metadata": {},
   "outputs": [
    {
     "data": {
      "text/plain": [
       "<AxesSubplot:xlabel='order_purchase_timestamp', ylabel='Count'>"
      ]
     },
     "execution_count": 39,
     "metadata": {},
     "output_type": "execute_result"
    },
    {
     "data": {
      "image/png": "[encoded data removed]",
      "text/plain": [
       "<Figure size 576x396 with 1 Axes>"
      ]
     },
     "metadata": {},
     "output_type": "display_data"
    }
   ],
   "source": [
    "sns.histplot(df12[\"order_purchase_timestamp\"], kde=True)"
   ]
  },
  {
   "cell_type": "code",
   "execution_count": null,
   "metadata": {},
   "outputs": [
    {
     "data": {
      "text/plain": [
       "<AxesSubplot:xlabel='Delta_time', ylabel='Count'>"
      ]
     },
     "execution_count": 40,
     "metadata": {},
     "output_type": "execute_result"
    },
    {
     "data": {
      "image/png": "[encoded data removed]",
      "text/plain": [
       "<Figure size 576x396 with 1 Axes>"
      ]
     },
     "metadata": {},
     "output_type": "display_data"
    }
   ],
   "source": [
    "sns.histplot(df12[\"Delta_time\"], kde=True)"
   ]
  },
  {
   "cell_type": "code",
   "execution_count": null,
   "metadata": {},
   "outputs": [
    {
     "data": {
      "text/plain": [
       "735"
      ]
     },
     "execution_count": 41,
     "metadata": {},
     "output_type": "execute_result"
    }
   ],
   "source": [
    "df12[\"Delta_time\"].max()"
   ]
  },
  {
   "attachments": {},
   "cell_type": "markdown",
   "metadata": {},
   "source": [
    "# Supprimer les 13 lignes pour lesquelles delta_deliv est nulles"
   ]
  },
  {
   "cell_type": "code",
   "execution_count": null,
   "metadata": {},
   "outputs": [],
   "source": [
    "df12 = df12[df12['Delta_deliv']>0]"
   ]
  },
  {
   "cell_type": "code",
   "execution_count": null,
   "metadata": {},
   "outputs": [
    {
     "data": {
      "text/html": [
       "<div>\n",
       "<style scoped>\n",
       "    .dataframe tbody tr th:only-of-type {\n",
       "        vertical-align: middle;\n",
       "    }\n",
       "\n",
       "    .dataframe tbody tr th {\n",
       "        vertical-align: top;\n",
       "    }\n",
       "\n",
       "    .dataframe thead th {\n",
       "        text-align: right;\n",
       "    }\n",
       "</style>\n",
       "<table border=\"1\" class=\"dataframe\">\n",
       "  <thead>\n",
       "    <tr style=\"text-align: right;\">\n",
       "      <th></th>\n",
       "      <th>Customer</th>\n",
       "      <th>order_id</th>\n",
       "      <th>order_purchase_timestamp</th>\n",
       "      <th>Delta_time</th>\n",
       "      <th>Recency</th>\n",
       "      <th>order_delivered_customer_date</th>\n",
       "      <th>Delta_deliv</th>\n",
       "      <th>Lat</th>\n",
       "      <th>Long</th>\n",
       "      <th>Satisfaction</th>\n",
       "      <th>Pay_sequential</th>\n",
       "      <th>Money</th>\n",
       "      <th>Pay_installments</th>\n",
       "    </tr>\n",
       "  </thead>\n",
       "  <tbody>\n",
       "    <tr>\n",
       "      <th>0</th>\n",
       "      <td>861eff4711a542e4b93843c6dd7febb0</td>\n",
       "      <td>00e7ee1b050b8499577073aeb2a297a1</td>\n",
       "      <td>2017-05-16 15:05:35</td>\n",
       "      <td>225</td>\n",
       "      <td>2138</td>\n",
       "      <td>2017-05-25 10:35:35</td>\n",
       "      <td>8</td>\n",
       "      <td>-23.155308</td>\n",
       "      <td>-47.084074</td>\n",
       "      <td>4</td>\n",
       "      <td>1</td>\n",
       "      <td>146.87</td>\n",
       "      <td>2</td>\n",
       "    </tr>\n",
       "    <tr>\n",
       "      <th>1</th>\n",
       "      <td>290c77bc529b7ac935b93aa66c333dc3</td>\n",
       "      <td>29150127e6685892b6eab3eec79f59c7</td>\n",
       "      <td>2018-01-12 20:48:24</td>\n",
       "      <td>474</td>\n",
       "      <td>1897</td>\n",
       "      <td>2018-01-29 12:41:19</td>\n",
       "      <td>16</td>\n",
       "      <td>-23.155308</td>\n",
       "      <td>-47.084074</td>\n",
       "      <td>5</td>\n",
       "      <td>1</td>\n",
       "      <td>335.48</td>\n",
       "      <td>8</td>\n",
       "    </tr>\n",
       "    <tr>\n",
       "      <th>2</th>\n",
       "      <td>060e732b5b29e8181a18229c7b0b2b5e</td>\n",
       "      <td>b2059ed67ce144a36e2aa97d2c9e9ad2</td>\n",
       "      <td>2018-05-19 16:07:45</td>\n",
       "      <td>611</td>\n",
       "      <td>1770</td>\n",
       "      <td>2018-06-14 17:58:51</td>\n",
       "      <td>26</td>\n",
       "      <td>-23.155308</td>\n",
       "      <td>-47.084074</td>\n",
       "      <td>5</td>\n",
       "      <td>1</td>\n",
       "      <td>157.73</td>\n",
       "      <td>7</td>\n",
       "    </tr>\n",
       "  </tbody>\n",
       "</table>\n",
       "</div>"
      ],
      "text/plain": [
       "                           Customer                          order_id  \\\n",
       "0  861eff4711a542e4b93843c6dd7febb0  00e7ee1b050b8499577073aeb2a297a1   \n",
       "1  290c77bc529b7ac935b93aa66c333dc3  29150127e6685892b6eab3eec79f59c7   \n",
       "2  060e732b5b29e8181a18229c7b0b2b5e  b2059ed67ce144a36e2aa97d2c9e9ad2   \n",
       "\n",
       "  order_purchase_timestamp  Delta_time  Recency order_delivered_customer_date  \\\n",
       "0      2017-05-16 15:05:35         225     2138           2017-05-25 10:35:35   \n",
       "1      2018-01-12 20:48:24         474     1897           2018-01-29 12:41:19   \n",
       "2      2018-05-19 16:07:45         611     1770           2018-06-14 17:58:51   \n",
       "\n",
       "   Delta_deliv        Lat       Long  Satisfaction  Pay_sequential   Money  \\\n",
       "0            8 -23.155308 -47.084074             4               1  146.87   \n",
       "1           16 -23.155308 -47.084074             5               1  335.48   \n",
       "2           26 -23.155308 -47.084074             5               1  157.73   \n",
       "\n",
       "   Pay_installments  \n",
       "0                 2  \n",
       "1                 8  \n",
       "2                 7  "
      ]
     },
     "execution_count": 43,
     "metadata": {},
     "output_type": "execute_result"
    }
   ],
   "source": [
    "df12.head(3)"
   ]
  },
  {
   "cell_type": "code",
   "execution_count": null,
   "metadata": {},
   "outputs": [
    {
     "data": {
      "text/html": [
       "<div>\n",
       "<style scoped>\n",
       "    .dataframe tbody tr th:only-of-type {\n",
       "        vertical-align: middle;\n",
       "    }\n",
       "\n",
       "    .dataframe tbody tr th {\n",
       "        vertical-align: top;\n",
       "    }\n",
       "\n",
       "    .dataframe thead th {\n",
       "        text-align: right;\n",
       "    }\n",
       "</style>\n",
       "<table border=\"1\" class=\"dataframe\">\n",
       "  <thead>\n",
       "    <tr style=\"text-align: right;\">\n",
       "      <th></th>\n",
       "      <th>count</th>\n",
       "      <th>mean</th>\n",
       "      <th>std</th>\n",
       "      <th>min</th>\n",
       "      <th>25%</th>\n",
       "      <th>50%</th>\n",
       "      <th>75%</th>\n",
       "      <th>max</th>\n",
       "    </tr>\n",
       "  </thead>\n",
       "  <tbody>\n",
       "    <tr>\n",
       "      <th>Delta_time</th>\n",
       "      <td>95814.0</td>\n",
       "      <td>459.721533</td>\n",
       "      <td>152.308220</td>\n",
       "      <td>0.000000</td>\n",
       "      <td>349.000000</td>\n",
       "      <td>479.000000</td>\n",
       "      <td>581.000000</td>\n",
       "      <td>735.000000</td>\n",
       "    </tr>\n",
       "    <tr>\n",
       "      <th>Recency</th>\n",
       "      <td>95814.0</td>\n",
       "      <td>1907.562747</td>\n",
       "      <td>152.885284</td>\n",
       "      <td>1668.000000</td>\n",
       "      <td>1784.000000</td>\n",
       "      <td>1889.000000</td>\n",
       "      <td>2017.000000</td>\n",
       "      <td>2363.000000</td>\n",
       "    </tr>\n",
       "    <tr>\n",
       "      <th>Delta_deliv</th>\n",
       "      <td>95814.0</td>\n",
       "      <td>12.054074</td>\n",
       "      <td>9.465169</td>\n",
       "      <td>1.000000</td>\n",
       "      <td>6.000000</td>\n",
       "      <td>10.000000</td>\n",
       "      <td>15.000000</td>\n",
       "      <td>208.000000</td>\n",
       "    </tr>\n",
       "    <tr>\n",
       "      <th>Lat</th>\n",
       "      <td>95814.0</td>\n",
       "      <td>-21.181216</td>\n",
       "      <td>5.496433</td>\n",
       "      <td>-29.679191</td>\n",
       "      <td>-23.155308</td>\n",
       "      <td>-23.155308</td>\n",
       "      <td>-19.864647</td>\n",
       "      <td>2.717100</td>\n",
       "    </tr>\n",
       "    <tr>\n",
       "      <th>Long</th>\n",
       "      <td>95814.0</td>\n",
       "      <td>-46.226951</td>\n",
       "      <td>3.882586</td>\n",
       "      <td>-68.451852</td>\n",
       "      <td>-47.084074</td>\n",
       "      <td>-47.084074</td>\n",
       "      <td>-44.421615</td>\n",
       "      <td>-35.758866</td>\n",
       "    </tr>\n",
       "    <tr>\n",
       "      <th>Satisfaction</th>\n",
       "      <td>95814.0</td>\n",
       "      <td>4.155426</td>\n",
       "      <td>1.284125</td>\n",
       "      <td>1.000000</td>\n",
       "      <td>4.000000</td>\n",
       "      <td>5.000000</td>\n",
       "      <td>5.000000</td>\n",
       "      <td>5.000000</td>\n",
       "    </tr>\n",
       "    <tr>\n",
       "      <th>Pay_sequential</th>\n",
       "      <td>95814.0</td>\n",
       "      <td>1.045119</td>\n",
       "      <td>0.371199</td>\n",
       "      <td>1.000000</td>\n",
       "      <td>1.000000</td>\n",
       "      <td>1.000000</td>\n",
       "      <td>1.000000</td>\n",
       "      <td>26.000000</td>\n",
       "    </tr>\n",
       "    <tr>\n",
       "      <th>Money</th>\n",
       "      <td>95814.0</td>\n",
       "      <td>159.590699</td>\n",
       "      <td>217.512806</td>\n",
       "      <td>9.590000</td>\n",
       "      <td>61.840000</td>\n",
       "      <td>105.280000</td>\n",
       "      <td>176.160000</td>\n",
       "      <td>13664.080000</td>\n",
       "    </tr>\n",
       "    <tr>\n",
       "      <th>Pay_installments</th>\n",
       "      <td>95814.0</td>\n",
       "      <td>2.925825</td>\n",
       "      <td>2.710330</td>\n",
       "      <td>1.000000</td>\n",
       "      <td>1.000000</td>\n",
       "      <td>2.000000</td>\n",
       "      <td>4.000000</td>\n",
       "      <td>24.000000</td>\n",
       "    </tr>\n",
       "  </tbody>\n",
       "</table>\n",
       "</div>"
      ],
      "text/plain": [
       "                    count         mean         std          min          25%  \\\n",
       "Delta_time        95814.0   459.721533  152.308220     0.000000   349.000000   \n",
       "Recency           95814.0  1907.562747  152.885284  1668.000000  1784.000000   \n",
       "Delta_deliv       95814.0    12.054074    9.465169     1.000000     6.000000   \n",
       "Lat               95814.0   -21.181216    5.496433   -29.679191   -23.155308   \n",
       "Long              95814.0   -46.226951    3.882586   -68.451852   -47.084074   \n",
       "Satisfaction      95814.0     4.155426    1.284125     1.000000     4.000000   \n",
       "Pay_sequential    95814.0     1.045119    0.371199     1.000000     1.000000   \n",
       "Money             95814.0   159.590699  217.512806     9.590000    61.840000   \n",
       "Pay_installments  95814.0     2.925825    2.710330     1.000000     1.000000   \n",
       "\n",
       "                          50%          75%           max  \n",
       "Delta_time         479.000000   581.000000    735.000000  \n",
       "Recency           1889.000000  2017.000000   2363.000000  \n",
       "Delta_deliv         10.000000    15.000000    208.000000  \n",
       "Lat                -23.155308   -19.864647      2.717100  \n",
       "Long               -47.084074   -44.421615    -35.758866  \n",
       "Satisfaction         5.000000     5.000000      5.000000  \n",
       "Pay_sequential       1.000000     1.000000     26.000000  \n",
       "Money              105.280000   176.160000  13664.080000  \n",
       "Pay_installments     2.000000     4.000000     24.000000  "
      ]
     },
     "execution_count": 44,
     "metadata": {},
     "output_type": "execute_result"
    }
   ],
   "source": [
    "df12.describe().T"
   ]
  },
  {
   "attachments": {},
   "cell_type": "markdown",
   "metadata": {},
   "source": [
    "# III Creation d'une super fct"
   ]
  },
  {
   "cell_type": "code",
   "execution_count": null,
   "metadata": {},
   "outputs": [
    {
     "data": {
      "text/plain": [
       "Index(['Customer', 'order_id', 'order_purchase_timestamp', 'Delta_time',\n",
       "       'Recency', 'order_delivered_customer_date', 'Delta_deliv', 'Lat',\n",
       "       'Long', 'Satisfaction', 'Pay_sequential', 'Money', 'Pay_installments'],\n",
       "      dtype='object')"
      ]
     },
     "execution_count": 45,
     "metadata": {},
     "output_type": "execute_result"
    }
   ],
   "source": [
    "df12.columns"
   ]
  },
  {
   "cell_type": "code",
   "execution_count": null,
   "metadata": {},
   "outputs": [],
   "source": [
    "def simulation(cutoff = 500, step = 7, n_clust = 7, features_dropped=None, log = 'yes'):\n",
    "    df = df12.copy()\n",
    "    dd = df[df['Delta_time']==cutoff]\n",
    "    max = df12[\"Delta_time\"].max()\n",
    "    fold = math.ceil((max-cutoff)/step)\n",
    "    l = []\n",
    "    scaler = StandardScaler()\n",
    "    cutoff_date = dd.groupby('Delta_time').agg({'order_delivered_customer_date':'mean'}) # récup de la date du cutoff\n",
    "    df0 = df[df['Delta_time']<= cutoff] # creation du df à t0 => modèle M0 de référence\n",
    "    df0 = df0.groupby(by=['Customer'], as_index=False).agg({\"Satisfaction\":'mean', \n",
    "                                                                  'Recency': 'min',\n",
    "                                                                  'order_id': 'count',\n",
    "                                                                  'Money': 'sum',\n",
    "                                                                  'Delta_deliv': 'mean',\n",
    "                                                                  'Pay_installments': 'mean',\n",
    "                                                                  'Pay_sequential' : 'mean',\n",
    "                                                                  'Lat': 'mean',\n",
    "                                                                  'Long': 'mean'})\n",
    "    df0 = df0.rename(columns={'order_id': 'Frequency'})\n",
    "    if log == 'yes':\n",
    "        df0['Lat'] = df0['Lat'].apply(lambda x : x -5)\n",
    "        df0['Lat'] = df0['Lat'].abs()\n",
    "        df0['Long'] = df0['Long'].abs()\n",
    "        df0.insert(1, 'Log2_Satisf', np.log2(df0.pop('Satisfaction')))\n",
    "        df0.insert(3, 'Log2_Freq', np.log2(df0.pop('Frequency')))\n",
    "        df0.insert(4, 'Log2_Money', np.log2(df0.pop('Money')))\n",
    "        df0.insert(2, 'Log2_Recency', np.log2(df0.pop('Recency')))\n",
    "        df0.insert(5, 'Log2_Delta_deliv', np.log2(df0.pop('Delta_deliv')))\n",
    "        df0.insert(6, 'Log2_Pay_installments', np.log2(df0.pop('Pay_installments')))\n",
    "        df0.insert(7, 'Log2_Pay_sequential', np.log2(df0.pop('Pay_sequential')))\n",
    "        df0.insert(8, 'Log2_|Lat-5|', np.log2(df0.pop('Lat')))\n",
    "        df0.insert(9, 'Log2_|Long|', np.log2(df0.pop('Long')))\n",
    "    else:\n",
    "        None\n",
    "    if features_dropped == None:\n",
    "        df_x0 =  df0.iloc[:,1:]\n",
    "    else:\n",
    "        df_x0 =  df0.iloc[:, 1:]\n",
    "        df_x0 = df_x0.drop(columns = features_dropped)\n",
    "    \n",
    "    X0 = scaler.fit_transform(df_x0)\n",
    "    model = KMeans(init='k-means++', random_state=42)\n",
    "    #visualizer = KElbowVisualizer(model, k=(2,11), metric='calinski_harabasz', timings=False, locate_elbow=False)\n",
    "    #visualizer.fit(X0)    # Fit the data to the visualizer\n",
    "    #visualizer.poof(outpath=\"images/save_kmeans_Calinski_df0_FINAL.png\")\n",
    "    kmeans = KMeans(n_clusters = n_clust, init = \"k-means++\", random_state = 42)\n",
    "    y_kmeans0 = kmeans.fit_predict(X0)\n",
    "    df0.insert(0, 'KMeans', y_kmeans0)\n",
    "    #fig = sns.pairplot(df0, hue='KMeans', palette=pastel2, corner=True)\n",
    "    #plt.savefig('images/save_pairplot_df0_KMeans.png')\n",
    "    \n",
    "    l2 = [1]\n",
    "    l3 = [len(df0)]\n",
    "    count = [0]   \n",
    "    for i in range(0, fold, 1): #creation des dfi (itération) selon le step\n",
    "        if i==fold-1:\n",
    "            #dfi = df[df['Delta_time']> (cutoff+i*step)]\n",
    "            #dfi = df[df['Delta_time']> cutoff]\n",
    "            dfi = df\n",
    "        else:\n",
    "            #dfi = df[(df['Delta_time']> (cutoff+i*step)) & (df['Delta_time'] <= (cutoff+(i+1)*step))]\n",
    "            dfi = df[df['Delta_time'] <= (cutoff+(i+1)*step)]\n",
    "        dfi = dfi.groupby(by=['Customer'], as_index=False).agg({\"Satisfaction\":'mean', \n",
    "                                                                  'Recency': 'min',\n",
    "                                                                  'order_id': 'count',\n",
    "                                                                  'Money': 'sum',\n",
    "                                                                  'Delta_deliv': 'mean',\n",
    "                                                                  'Pay_installments': 'mean',\n",
    "                                                                  'Pay_sequential' : 'mean',\n",
    "                                                                  'Lat': 'mean',\n",
    "                                                                  'Long': 'mean'})\n",
    "        dfi = dfi.rename(columns={'order_id': 'Frequency'})\n",
    "        if log == 'yes':\n",
    "            dfi['Lat'] = dfi['Lat'].apply(lambda x : x -5)\n",
    "            dfi['Lat'] = dfi['Lat'].abs()\n",
    "            dfi['Long'] = dfi['Long'].abs()\n",
    "            dfi.insert(1, 'Log2_Satisf', np.log2(dfi.pop('Satisfaction')))\n",
    "            dfi.insert(3, 'Log2_Freq', np.log2(dfi.pop('Frequency')))\n",
    "            dfi.insert(4, 'Log2_Money', np.log2(dfi.pop('Money')))\n",
    "            dfi.insert(2, 'Log2_Recency', np.log2(dfi.pop('Recency')))\n",
    "            dfi.insert(5, 'Log2_Delta_deliv', np.log2(dfi.pop('Delta_deliv')))\n",
    "            dfi.insert(6, 'Log2_Pay_installments', np.log2(dfi.pop('Pay_installments')))\n",
    "            dfi.insert(7, 'Log2_Pay_sequential', np.log2(dfi.pop('Pay_sequential')))\n",
    "            dfi.insert(8, 'Log2_|Lat-5|', np.log2(dfi.pop('Lat')))\n",
    "            dfi.insert(9, 'Log2_|Long|', np.log2(dfi.pop('Long')))\n",
    "        else:\n",
    "            None\n",
    "        if features_dropped == None:\n",
    "            df_xi =  dfi.iloc[:,1:]\n",
    "        else:\n",
    "            df_xi =  dfi.iloc[:, 1:]\n",
    "            df_xi = df_xi.drop(columns = features_dropped)\n",
    "                  \n",
    "        Xi = StandardScaler().fit_transform(df_xi)\n",
    "        y_kmeans_i = KMeans(n_clusters = n_clust, init = \"k-means++\", random_state = 42).fit_predict(Xi) #fit avec modèle M1\n",
    "        y_kmeans_pred = KMeans(n_clusters = n_clust, init = \"k-means++\", random_state = 42).fit(X0).predict(Xi)\n",
    "        dfi.insert(0, 'KMeans_i', y_kmeans_i)\n",
    "        dfi.insert(1, 'KMeans_pred', y_kmeans_pred)\n",
    "        l.append(dfi)\n",
    "        ARI = adjusted_rand_score(y_kmeans_i, y_kmeans_pred)\n",
    "        l2.append(ARI)\n",
    "        count.append((i+1)*step)\n",
    "        l3.append(len(dfi))\n",
    "    d = {'Nb_days': count, 'ARI': l2, 'Nb_customers':l3}\n",
    "    df_ = pd.DataFrame(d)\n",
    "    sns.lineplot(data = df_, x = 'Nb_days', y = 'ARI')\n",
    "    return df_, cutoff_date, df0.columns"
   ]
  },
  {
   "cell_type": "code",
   "execution_count": null,
   "metadata": {},
   "outputs": [
    {
     "data": {
      "text/plain": [
       "<matplotlib.lines.Line2D at 0x254bb42cb80>"
      ]
     },
     "execution_count": 56,
     "metadata": {},
     "output_type": "execute_result"
    },
    {
     "data": {
      "image/png": "[encoded data removed]",
      "text/plain": [
       "<Figure size 576x396 with 1 Axes>"
      ]
     },
     "metadata": {},
     "output_type": "display_data"
    }
   ],
   "source": [
    "sns.histplot(df12['Delta_time'], kde=True).set(title='Histogramme du Delta_time')\n",
    "plt.axvline(x=400, color=vert)\n",
    "plt.axvline(x=500, color=vert)\n",
    "plt.axvline(x=600, color=vert)\n",
    "#plt.axvline(x=650, color=rouge)"
   ]
  },
  {
   "cell_type": "code",
   "execution_count": null,
   "metadata": {},
   "outputs": [
    {
     "data": {
      "text/plain": [
       "(    Nb_days       ARI  Nb_customers\n",
       " 0         0  1.000000          5960\n",
       " 1         7  0.702803          6462\n",
       " 2        14  0.961244          7206\n",
       " 3        21  0.854245          8124\n",
       " 4        28  0.785739          9119\n",
       " ..      ...       ...           ...\n",
       " 73      511  0.620083         92732\n",
       " 74      518  0.616174         92734\n",
       " 75      525  0.622820         92735\n",
       " 76      532  0.623417         92736\n",
       " 77      539  0.621591         92737\n",
       " \n",
       " [78 rows x 3 columns],\n",
       "            order_delivered_customer_date\n",
       " Delta_time                              \n",
       " 200              2017-04-30 09:34:46.100,\n",
       " Index(['KMeans', 'Customer', 'Log2_Satisf', 'Log2_Recency', 'Log2_Freq',\n",
       "        'Log2_Money', 'Log2_Delta_deliv', 'Log2_Pay_installments',\n",
       "        'Log2_Pay_sequential', 'Log2_|Lat-5|', 'Log2_|Long|'],\n",
       "       dtype='object'))"
      ]
     },
     "execution_count": 48,
     "metadata": {},
     "output_type": "execute_result"
    },
    {
     "data": {
      "image/png": "[encoded data removed]",
      "text/plain": [
       "<Figure size 576x396 with 1 Axes>"
      ]
     },
     "metadata": {},
     "output_type": "display_data"
    }
   ],
   "source": [
    "simulation(cutoff = 200, step = 7, n_clust = 7, features_dropped=None, log='yes')"
   ]
  },
  {
   "cell_type": "code",
   "execution_count": null,
   "metadata": {},
   "outputs": [
    {
     "data": {
      "text/plain": [
       "(    Nb_days       ARI  Nb_customers\n",
       " 0         0  1.000000         16934\n",
       " 1         7  0.988486         17835\n",
       " 2        14  0.987088         18705\n",
       " 3        21  0.986128         19741\n",
       " 4        28  0.980287         20540\n",
       " ..      ...       ...           ...\n",
       " 59      413  0.775515         92733\n",
       " 60      420  0.789481         92735\n",
       " 61      427  0.789481         92735\n",
       " 62      434  0.791060         92736\n",
       " 63      441  0.783568         92737\n",
       " \n",
       " [64 rows x 3 columns],\n",
       "            order_delivered_customer_date\n",
       " Delta_time                              \n",
       " 300           2017-08-07 19:45:37.830688,\n",
       " Index(['KMeans', 'Customer', 'Log2_Satisf', 'Log2_Recency', 'Log2_Freq',\n",
       "        'Log2_Money', 'Log2_Delta_deliv', 'Log2_Pay_installments',\n",
       "        'Log2_Pay_sequential', 'Log2_|Lat-5|', 'Log2_|Long|'],\n",
       "       dtype='object'))"
      ]
     },
     "execution_count": 49,
     "metadata": {},
     "output_type": "execute_result"
    },
    {
     "data": {
      "image/png": "[encoded data removed]",
      "text/plain": [
       "<Figure size 576x396 with 1 Axes>"
      ]
     },
     "metadata": {},
     "output_type": "display_data"
    }
   ],
   "source": [
    "simulation(cutoff = 300, step = 7, n_clust = 7, features_dropped=None, log='yes')"
   ]
  },
  {
   "cell_type": "code",
   "execution_count": null,
   "metadata": {},
   "outputs": [
    {
     "data": {
      "text/plain": [
       "(    Nb_days       ARI  Nb_customers\n",
       " 0         0  1.000000         30079\n",
       " 1         7  0.984176         31125\n",
       " 2        14  0.986464         32516\n",
       " 3        21  0.986173         34199\n",
       " 4        28  0.960472         35988\n",
       " 5        35  0.919085         37773\n",
       " 6        42  0.905736         39075\n",
       " 7        49  0.889363         40066\n",
       " 8        56  0.879685         41600\n",
       " 9        63  0.860912         42889\n",
       " 10       70  0.865167         44425\n",
       " 11       77  0.834448         46089\n",
       " 12       84  0.830405         47516\n",
       " 13       91  0.828532         48367\n",
       " 14       98  0.817230         50073\n",
       " 15      105  0.817942         51686\n",
       " 16      112  0.817280         53122\n",
       " 17      119  0.812369         54462\n",
       " 18      126  0.805130         56064\n",
       " 19      133  0.814648         57763\n",
       " 20      140  0.810341         59297\n",
       " 21      147  0.816062         61221\n",
       " 22      154  0.824434         62973\n",
       " 23      161  0.825673         64648\n",
       " 24      168  0.827776         66134\n",
       " 25      175  0.831077         68073\n",
       " 26      182  0.829830         69983\n",
       " 27      189  0.832613         71882\n",
       " 28      196  0.838618         72525\n",
       " 29      203  0.834157         73837\n",
       " 30      210  0.828595         75390\n",
       " 31      217  0.828222         76985\n",
       " 32      224  0.829988         78419\n",
       " 33      231  0.836183         79896\n",
       " 34      238  0.837598         81268\n",
       " 35      245  0.930564         81936\n",
       " 36      252  0.936010         83265\n",
       " 37      259  0.794033         84966\n",
       " 38      266  0.792036         86621\n",
       " 39      273  0.772475         88484\n",
       " 40      280  0.771095         90380\n",
       " 41      287  0.758656         92369\n",
       " 42      294  0.773239         92711\n",
       " 43      301  0.764007         92720\n",
       " 44      308  0.766764         92729\n",
       " 45      315  0.760758         92734\n",
       " 46      322  0.774745         92735\n",
       " 47      329  0.774745         92735\n",
       " 48      336  0.768902         92737,\n",
       "            order_delivered_customer_date\n",
       " Delta_time                              \n",
       " 400        2017-11-16 00:32:22.655172352,\n",
       " Index(['KMeans', 'Customer', 'Log2_Satisf', 'Log2_Recency', 'Log2_Freq',\n",
       "        'Log2_Money', 'Log2_Delta_deliv', 'Log2_Pay_installments',\n",
       "        'Log2_Pay_sequential', 'Log2_|Lat-5|', 'Log2_|Long|'],\n",
       "       dtype='object'))"
      ]
     },
     "execution_count": 50,
     "metadata": {},
     "output_type": "execute_result"
    },
    {
     "data": {
      "image/png": "[encoded data removed]",
      "text/plain": [
       "<Figure size 576x396 with 1 Axes>"
      ]
     },
     "metadata": {},
     "output_type": "display_data"
    }
   ],
   "source": [
    "simulation(cutoff = 400, step = 7, n_clust = 7, features_dropped=None, log='yes')"
   ]
  },
  {
   "cell_type": "code",
   "execution_count": null,
   "metadata": {},
   "outputs": [
    {
     "data": {
      "text/plain": [
       "(    Nb_days       ARI  Nb_customers\n",
       " 0         0  1.000000         72875\n",
       " 1         7  0.991949         74566\n",
       " 2        14  0.990971         76029\n",
       " 3        21  0.981933         77627\n",
       " 4        28  0.974782         79087\n",
       " 5        35  0.964843         80451\n",
       " 6        42  0.851133         81878\n",
       " 7        49  0.844768         82240\n",
       " 8        56  0.790402         84010\n",
       " 9        63  0.676145         85637\n",
       " 10       70  0.656198         87352\n",
       " 11       77  0.642800         89300\n",
       " 12       84  0.650099         91169\n",
       " 13       91  0.657418         92687\n",
       " 14       98  0.651891         92713\n",
       " 15      105  0.651434         92722\n",
       " 16      112  0.655694         92732\n",
       " 17      119  0.652119         92734\n",
       " 18      126  0.663184         92735\n",
       " 19      133  0.664512         92736\n",
       " 20      140  0.657994         92737,\n",
       "            order_delivered_customer_date\n",
       " Delta_time                              \n",
       " 600        2018-06-04 02:11:47.227272704,\n",
       " Index(['KMeans', 'Customer', 'Log2_Satisf', 'Log2_Recency', 'Log2_Freq',\n",
       "        'Log2_Money', 'Log2_Delta_deliv', 'Log2_Pay_installments',\n",
       "        'Log2_Pay_sequential', 'Log2_|Lat-5|', 'Log2_|Long|'],\n",
       "       dtype='object'))"
      ]
     },
     "execution_count": 51,
     "metadata": {},
     "output_type": "execute_result"
    },
    {
     "data": {
      "image/png": "[encoded data removed]",
      "text/plain": [
       "<Figure size 576x396 with 1 Axes>"
      ]
     },
     "metadata": {},
     "output_type": "display_data"
    }
   ],
   "source": [
    "simulation(cutoff = 600, step = 7, n_clust = 7, features_dropped=None, log='yes')"
   ]
  },
  {
   "cell_type": "code",
   "execution_count": null,
   "metadata": {},
   "outputs": [
    {
     "data": {
      "text/plain": [
       "(   Nb_days       ARI  Nb_customers\n",
       " 0        0  1.000000         72875\n",
       " 1       15  0.991196         76384\n",
       " 2       30  0.972327         79657\n",
       " 3       45  0.847470         81936\n",
       " 4       60  0.670233         85272\n",
       " 5       75  0.639663         89212\n",
       " 6       90  0.652880         92686\n",
       " 7      105  0.651434         92722\n",
       " 8      120  0.663184         92735\n",
       " 9      135  0.657994         92737,\n",
       "            order_delivered_customer_date\n",
       " Delta_time                              \n",
       " 600        2018-06-04 02:11:47.227272704,\n",
       " Index(['KMeans', 'Customer', 'Log2_Satisf', 'Log2_Recency', 'Log2_Freq',\n",
       "        'Log2_Money', 'Log2_Delta_deliv', 'Log2_Pay_installments',\n",
       "        'Log2_Pay_sequential', 'Log2_|Lat-5|', 'Log2_|Long|'],\n",
       "       dtype='object'))"
      ]
     },
     "execution_count": 52,
     "metadata": {},
     "output_type": "execute_result"
    },
    {
     "data": {
      "image/png": "[encoded data removed]",
      "text/plain": [
       "<Figure size 576x396 with 1 Axes>"
      ]
     },
     "metadata": {},
     "output_type": "display_data"
    }
   ],
   "source": [
    "simulation(cutoff = 600, step = 15, n_clust = 7, features_dropped=None, log='yes')"
   ]
  },
  {
   "cell_type": "code",
   "execution_count": null,
   "metadata": {},
   "outputs": [
    {
     "data": {
      "text/plain": [
       "(    Nb_days       ARI  Nb_customers\n",
       " 0         0  1.000000         50651\n",
       " 1         7  0.993814         52170\n",
       " 2        14  0.984327         53629\n",
       " 3        21  0.982777         55021\n",
       " 4        28  0.980269         56638\n",
       " 5        35  0.978018         58122\n",
       " 6        42  0.974931         59975\n",
       " 7        49  0.964623         61867\n",
       " 8        56  0.953883         63542\n",
       " 9        63  0.950923         65256\n",
       " 10       70  0.948024         66881\n",
       " 11       77  0.942501         68744\n",
       " 12       84  0.942194         70737\n",
       " 13       91  0.930760         72224\n",
       " 14       98  0.927723         72763\n",
       " 15      105  0.929018         74461\n",
       " 16      112  0.922721         75942\n",
       " 17      119  0.914902         77538\n",
       " 18      126  0.908678         79013\n",
       " 19      133  0.901553         80371\n",
       " 20      140  0.814256         81813\n",
       " 21      147  0.823021         82178\n",
       " 22      154  0.799060         83910\n",
       " 23      161  0.646096         85551\n",
       " 24      168  0.651661         87261\n",
       " 25      175  0.631518         89212\n",
       " 26      182  0.642864         91079\n",
       " 27      189  0.642135         92685\n",
       " 28      196  0.642253         92712\n",
       " 29      203  0.637952         92722\n",
       " 30      210  0.640628         92732\n",
       " 31      217  0.638069         92734\n",
       " 32      224  0.647758         92735\n",
       " 33      231  0.648924         92736\n",
       " 34      238  0.642817         92737,\n",
       "            order_delivered_customer_date\n",
       " Delta_time                              \n",
       " 500        2018-02-23 21:45:05.836120320,\n",
       " Index(['KMeans', 'Customer', 'Log2_Satisf', 'Log2_Recency', 'Log2_Freq',\n",
       "        'Log2_Money', 'Log2_Delta_deliv', 'Log2_Pay_installments',\n",
       "        'Log2_Pay_sequential', 'Log2_|Lat-5|', 'Log2_|Long|'],\n",
       "       dtype='object'))"
      ]
     },
     "execution_count": 53,
     "metadata": {},
     "output_type": "execute_result"
    },
    {
     "data": {
      "image/png": "[encoded data removed]",
      "text/plain": [
       "<Figure size 576x396 with 1 Axes>"
      ]
     },
     "metadata": {},
     "output_type": "display_data"
    }
   ],
   "source": [
    "simulation(cutoff = 500, step = 7, n_clust = 7, features_dropped=None, log='yes')"
   ]
  },
  {
   "cell_type": "code",
   "execution_count": null,
   "metadata": {},
   "outputs": [
    {
     "ename": "KeyboardInterrupt",
     "evalue": "",
     "output_type": "error",
     "traceback": [
      "\u001b[1;31m---------------------------------------------------------------------------\u001b[0m",
      "\u001b[1;31mKeyboardInterrupt\u001b[0m                         Traceback (most recent call last)",
      "\u001b[1;32m~\\AppData\\Local\\Temp/ipykernel_18572/1398052450.py\u001b[0m in \u001b[0;36m<module>\u001b[1;34m\u001b[0m\n\u001b[1;32m----> 1\u001b[1;33m \u001b[0msimulation\u001b[0m\u001b[1;33m(\u001b[0m\u001b[0mcutoff\u001b[0m \u001b[1;33m=\u001b[0m \u001b[1;36m400\u001b[0m\u001b[1;33m,\u001b[0m \u001b[0mstep\u001b[0m \u001b[1;33m=\u001b[0m \u001b[1;36m7\u001b[0m\u001b[1;33m,\u001b[0m \u001b[0mn_clust\u001b[0m \u001b[1;33m=\u001b[0m \u001b[1;36m7\u001b[0m\u001b[1;33m,\u001b[0m \u001b[0mfeatures_dropped\u001b[0m\u001b[1;33m=\u001b[0m\u001b[1;32mNone\u001b[0m\u001b[1;33m,\u001b[0m \u001b[0mlog\u001b[0m\u001b[1;33m=\u001b[0m\u001b[1;34m'yes'\u001b[0m\u001b[1;33m)\u001b[0m\u001b[1;33m\u001b[0m\u001b[1;33m\u001b[0m\u001b[0m\n\u001b[0m",
      "\u001b[1;32m~\\AppData\\Local\\Temp/ipykernel_18572/262244626.py\u001b[0m in \u001b[0;36msimulation\u001b[1;34m(cutoff, step, n_clust, features_dropped, log)\u001b[0m\n\u001b[0;32m     93\u001b[0m \u001b[1;33m\u001b[0m\u001b[0m\n\u001b[0;32m     94\u001b[0m         \u001b[0mXi\u001b[0m \u001b[1;33m=\u001b[0m \u001b[0mStandardScaler\u001b[0m\u001b[1;33m(\u001b[0m\u001b[1;33m)\u001b[0m\u001b[1;33m.\u001b[0m\u001b[0mfit_transform\u001b[0m\u001b[1;33m(\u001b[0m\u001b[0mdf_xi\u001b[0m\u001b[1;33m)\u001b[0m\u001b[1;33m\u001b[0m\u001b[1;33m\u001b[0m\u001b[0m\n\u001b[1;32m---> 95\u001b[1;33m         \u001b[0my_kmeans_i\u001b[0m \u001b[1;33m=\u001b[0m \u001b[0mKMeans\u001b[0m\u001b[1;33m(\u001b[0m\u001b[0mn_clusters\u001b[0m \u001b[1;33m=\u001b[0m \u001b[0mn_clust\u001b[0m\u001b[1;33m,\u001b[0m \u001b[0minit\u001b[0m \u001b[1;33m=\u001b[0m \u001b[1;34m\"k-means++\"\u001b[0m\u001b[1;33m,\u001b[0m \u001b[0mrandom_state\u001b[0m \u001b[1;33m=\u001b[0m \u001b[1;36m42\u001b[0m\u001b[1;33m)\u001b[0m\u001b[1;33m.\u001b[0m\u001b[0mfit_predict\u001b[0m\u001b[1;33m(\u001b[0m\u001b[0mXi\u001b[0m\u001b[1;33m)\u001b[0m \u001b[1;31m#fit avec modèle M1\u001b[0m\u001b[1;33m\u001b[0m\u001b[1;33m\u001b[0m\u001b[0m\n\u001b[0m\u001b[0;32m     96\u001b[0m         \u001b[0my_kmeans_pred\u001b[0m \u001b[1;33m=\u001b[0m \u001b[0mKMeans\u001b[0m\u001b[1;33m(\u001b[0m\u001b[0mn_clusters\u001b[0m \u001b[1;33m=\u001b[0m \u001b[0mn_clust\u001b[0m\u001b[1;33m,\u001b[0m \u001b[0minit\u001b[0m \u001b[1;33m=\u001b[0m \u001b[1;34m\"k-means++\"\u001b[0m\u001b[1;33m,\u001b[0m \u001b[0mrandom_state\u001b[0m \u001b[1;33m=\u001b[0m \u001b[1;36m42\u001b[0m\u001b[1;33m)\u001b[0m\u001b[1;33m.\u001b[0m\u001b[0mfit\u001b[0m\u001b[1;33m(\u001b[0m\u001b[0mX0\u001b[0m\u001b[1;33m)\u001b[0m\u001b[1;33m.\u001b[0m\u001b[0mpredict\u001b[0m\u001b[1;33m(\u001b[0m\u001b[0mXi\u001b[0m\u001b[1;33m)\u001b[0m\u001b[1;33m\u001b[0m\u001b[1;33m\u001b[0m\u001b[0m\n\u001b[0;32m     97\u001b[0m         \u001b[0mdfi\u001b[0m\u001b[1;33m.\u001b[0m\u001b[0minsert\u001b[0m\u001b[1;33m(\u001b[0m\u001b[1;36m0\u001b[0m\u001b[1;33m,\u001b[0m \u001b[1;34m'KMeans_i'\u001b[0m\u001b[1;33m,\u001b[0m \u001b[0my_kmeans_i\u001b[0m\u001b[1;33m)\u001b[0m\u001b[1;33m\u001b[0m\u001b[1;33m\u001b[0m\u001b[0m\n",
      "\u001b[1;32mc:\\Users\\denis\\anaconda3\\lib\\site-packages\\sklearn\\cluster\\_kmeans.py\u001b[0m in \u001b[0;36mfit_predict\u001b[1;34m(self, X, y, sample_weight)\u001b[0m\n\u001b[0;32m    994\u001b[0m             \u001b[0mIndex\u001b[0m \u001b[0mof\u001b[0m \u001b[0mthe\u001b[0m \u001b[0mcluster\u001b[0m \u001b[0meach\u001b[0m \u001b[0msample\u001b[0m \u001b[0mbelongs\u001b[0m \u001b[0mto\u001b[0m\u001b[1;33m.\u001b[0m\u001b[1;33m\u001b[0m\u001b[1;33m\u001b[0m\u001b[0m\n\u001b[0;32m    995\u001b[0m         \"\"\"\n\u001b[1;32m--> 996\u001b[1;33m         \u001b[1;32mreturn\u001b[0m \u001b[0mself\u001b[0m\u001b[1;33m.\u001b[0m\u001b[0mfit\u001b[0m\u001b[1;33m(\u001b[0m\u001b[0mX\u001b[0m\u001b[1;33m,\u001b[0m \u001b[0msample_weight\u001b[0m\u001b[1;33m=\u001b[0m\u001b[0msample_weight\u001b[0m\u001b[1;33m)\u001b[0m\u001b[1;33m.\u001b[0m\u001b[0mlabels_\u001b[0m\u001b[1;33m\u001b[0m\u001b[1;33m\u001b[0m\u001b[0m\n\u001b[0m\u001b[0;32m    997\u001b[0m \u001b[1;33m\u001b[0m\u001b[0m\n\u001b[0;32m    998\u001b[0m     \u001b[1;32mdef\u001b[0m \u001b[0mpredict\u001b[0m\u001b[1;33m(\u001b[0m\u001b[0mself\u001b[0m\u001b[1;33m,\u001b[0m \u001b[0mX\u001b[0m\u001b[1;33m,\u001b[0m \u001b[0msample_weight\u001b[0m\u001b[1;33m=\u001b[0m\u001b[1;32mNone\u001b[0m\u001b[1;33m)\u001b[0m\u001b[1;33m:\u001b[0m\u001b[1;33m\u001b[0m\u001b[1;33m\u001b[0m\u001b[0m\n",
      "\u001b[1;32mc:\\Users\\denis\\anaconda3\\lib\\site-packages\\sklearn\\cluster\\_kmeans.py\u001b[0m in \u001b[0;36mfit\u001b[1;34m(self, X, y, sample_weight)\u001b[0m\n\u001b[0;32m   1413\u001b[0m \u001b[1;33m\u001b[0m\u001b[0m\n\u001b[0;32m   1414\u001b[0m             \u001b[1;31m# run a k-means once\u001b[0m\u001b[1;33m\u001b[0m\u001b[1;33m\u001b[0m\u001b[0m\n\u001b[1;32m-> 1415\u001b[1;33m             labels, inertia, centers, n_iter_ = kmeans_single(\n\u001b[0m\u001b[0;32m   1416\u001b[0m                 \u001b[0mX\u001b[0m\u001b[1;33m,\u001b[0m\u001b[1;33m\u001b[0m\u001b[1;33m\u001b[0m\u001b[0m\n\u001b[0;32m   1417\u001b[0m                 \u001b[0msample_weight\u001b[0m\u001b[1;33m,\u001b[0m\u001b[1;33m\u001b[0m\u001b[1;33m\u001b[0m\u001b[0m\n",
      "\u001b[1;32mc:\\Users\\denis\\anaconda3\\lib\\site-packages\\sklearn\\cluster\\_kmeans.py\u001b[0m in \u001b[0;36m_kmeans_single_lloyd\u001b[1;34m(X, sample_weight, centers_init, max_iter, verbose, x_squared_norms, tol, n_threads)\u001b[0m\n\u001b[0;32m    644\u001b[0m     \u001b[1;31m# Threadpoolctl context to limit the number of threads in second level of\u001b[0m\u001b[1;33m\u001b[0m\u001b[1;33m\u001b[0m\u001b[0m\n\u001b[0;32m    645\u001b[0m     \u001b[1;31m# nested parallelism (i.e. BLAS) to avoid oversubsciption.\u001b[0m\u001b[1;33m\u001b[0m\u001b[1;33m\u001b[0m\u001b[0m\n\u001b[1;32m--> 646\u001b[1;33m     \u001b[1;32mwith\u001b[0m \u001b[0mthreadpool_limits\u001b[0m\u001b[1;33m(\u001b[0m\u001b[0mlimits\u001b[0m\u001b[1;33m=\u001b[0m\u001b[1;36m1\u001b[0m\u001b[1;33m,\u001b[0m \u001b[0muser_api\u001b[0m\u001b[1;33m=\u001b[0m\u001b[1;34m\"blas\"\u001b[0m\u001b[1;33m)\u001b[0m\u001b[1;33m:\u001b[0m\u001b[1;33m\u001b[0m\u001b[1;33m\u001b[0m\u001b[0m\n\u001b[0m\u001b[0;32m    647\u001b[0m         \u001b[1;32mfor\u001b[0m \u001b[0mi\u001b[0m \u001b[1;32min\u001b[0m \u001b[0mrange\u001b[0m\u001b[1;33m(\u001b[0m\u001b[0mmax_iter\u001b[0m\u001b[1;33m)\u001b[0m\u001b[1;33m:\u001b[0m\u001b[1;33m\u001b[0m\u001b[1;33m\u001b[0m\u001b[0m\n\u001b[0;32m    648\u001b[0m             lloyd_iter(\n",
      "\u001b[1;32mc:\\Users\\denis\\anaconda3\\lib\\site-packages\\sklearn\\utils\\fixes.py\u001b[0m in \u001b[0;36mthreadpool_limits\u001b[1;34m(limits, user_api)\u001b[0m\n\u001b[0;32m    149\u001b[0m         \u001b[1;32mreturn\u001b[0m \u001b[0mcontroller\u001b[0m\u001b[1;33m.\u001b[0m\u001b[0mlimit\u001b[0m\u001b[1;33m(\u001b[0m\u001b[0mlimits\u001b[0m\u001b[1;33m=\u001b[0m\u001b[0mlimits\u001b[0m\u001b[1;33m,\u001b[0m \u001b[0muser_api\u001b[0m\u001b[1;33m=\u001b[0m\u001b[0muser_api\u001b[0m\u001b[1;33m)\u001b[0m\u001b[1;33m\u001b[0m\u001b[1;33m\u001b[0m\u001b[0m\n\u001b[0;32m    150\u001b[0m     \u001b[1;32melse\u001b[0m\u001b[1;33m:\u001b[0m\u001b[1;33m\u001b[0m\u001b[1;33m\u001b[0m\u001b[0m\n\u001b[1;32m--> 151\u001b[1;33m         \u001b[1;32mreturn\u001b[0m \u001b[0mthreadpoolctl\u001b[0m\u001b[1;33m.\u001b[0m\u001b[0mthreadpool_limits\u001b[0m\u001b[1;33m(\u001b[0m\u001b[0mlimits\u001b[0m\u001b[1;33m=\u001b[0m\u001b[0mlimits\u001b[0m\u001b[1;33m,\u001b[0m \u001b[0muser_api\u001b[0m\u001b[1;33m=\u001b[0m\u001b[0muser_api\u001b[0m\u001b[1;33m)\u001b[0m\u001b[1;33m\u001b[0m\u001b[1;33m\u001b[0m\u001b[0m\n\u001b[0m\u001b[0;32m    152\u001b[0m \u001b[1;33m\u001b[0m\u001b[0m\n\u001b[0;32m    153\u001b[0m \u001b[1;33m\u001b[0m\u001b[0m\n",
      "\u001b[1;32mc:\\Users\\denis\\anaconda3\\lib\\site-packages\\threadpoolctl.py\u001b[0m in \u001b[0;36m__init__\u001b[1;34m(self, limits, user_api)\u001b[0m\n\u001b[0;32m    169\u001b[0m             \u001b[0mself\u001b[0m\u001b[1;33m.\u001b[0m\u001b[0m_check_params\u001b[0m\u001b[1;33m(\u001b[0m\u001b[0mlimits\u001b[0m\u001b[1;33m,\u001b[0m \u001b[0muser_api\u001b[0m\u001b[1;33m)\u001b[0m\u001b[1;33m\u001b[0m\u001b[1;33m\u001b[0m\u001b[0m\n\u001b[0;32m    170\u001b[0m \u001b[1;33m\u001b[0m\u001b[0m\n\u001b[1;32m--> 171\u001b[1;33m         \u001b[0mself\u001b[0m\u001b[1;33m.\u001b[0m\u001b[0m_original_info\u001b[0m \u001b[1;33m=\u001b[0m \u001b[0mself\u001b[0m\u001b[1;33m.\u001b[0m\u001b[0m_set_threadpool_limits\u001b[0m\u001b[1;33m(\u001b[0m\u001b[1;33m)\u001b[0m\u001b[1;33m\u001b[0m\u001b[1;33m\u001b[0m\u001b[0m\n\u001b[0m\u001b[0;32m    172\u001b[0m \u001b[1;33m\u001b[0m\u001b[0m\n\u001b[0;32m    173\u001b[0m     \u001b[1;32mdef\u001b[0m \u001b[0m__enter__\u001b[0m\u001b[1;33m(\u001b[0m\u001b[0mself\u001b[0m\u001b[1;33m)\u001b[0m\u001b[1;33m:\u001b[0m\u001b[1;33m\u001b[0m\u001b[1;33m\u001b[0m\u001b[0m\n",
      "\u001b[1;32mc:\\Users\\denis\\anaconda3\\lib\\site-packages\\threadpoolctl.py\u001b[0m in \u001b[0;36m_set_threadpool_limits\u001b[1;34m(self)\u001b[0m\n\u001b[0;32m    266\u001b[0m             \u001b[1;32mreturn\u001b[0m \u001b[1;32mNone\u001b[0m\u001b[1;33m\u001b[0m\u001b[1;33m\u001b[0m\u001b[0m\n\u001b[0;32m    267\u001b[0m \u001b[1;33m\u001b[0m\u001b[0m\n\u001b[1;32m--> 268\u001b[1;33m         modules = _ThreadpoolInfo(prefixes=self._prefixes,\n\u001b[0m\u001b[0;32m    269\u001b[0m                                   user_api=self._user_api)\n\u001b[0;32m    270\u001b[0m         \u001b[1;32mfor\u001b[0m \u001b[0mmodule\u001b[0m \u001b[1;32min\u001b[0m \u001b[0mmodules\u001b[0m\u001b[1;33m:\u001b[0m\u001b[1;33m\u001b[0m\u001b[1;33m\u001b[0m\u001b[0m\n",
      "\u001b[1;32mc:\\Users\\denis\\anaconda3\\lib\\site-packages\\threadpoolctl.py\u001b[0m in \u001b[0;36m__init__\u001b[1;34m(self, user_api, prefixes, modules)\u001b[0m\n\u001b[0;32m    338\u001b[0m \u001b[1;33m\u001b[0m\u001b[0m\n\u001b[0;32m    339\u001b[0m             \u001b[0mself\u001b[0m\u001b[1;33m.\u001b[0m\u001b[0mmodules\u001b[0m \u001b[1;33m=\u001b[0m \u001b[1;33m[\u001b[0m\u001b[1;33m]\u001b[0m\u001b[1;33m\u001b[0m\u001b[1;33m\u001b[0m\u001b[0m\n\u001b[1;32m--> 340\u001b[1;33m             \u001b[0mself\u001b[0m\u001b[1;33m.\u001b[0m\u001b[0m_load_modules\u001b[0m\u001b[1;33m(\u001b[0m\u001b[1;33m)\u001b[0m\u001b[1;33m\u001b[0m\u001b[1;33m\u001b[0m\u001b[0m\n\u001b[0m\u001b[0;32m    341\u001b[0m             \u001b[0mself\u001b[0m\u001b[1;33m.\u001b[0m\u001b[0m_warn_if_incompatible_openmp\u001b[0m\u001b[1;33m(\u001b[0m\u001b[1;33m)\u001b[0m\u001b[1;33m\u001b[0m\u001b[1;33m\u001b[0m\u001b[0m\n\u001b[0;32m    342\u001b[0m         \u001b[1;32melse\u001b[0m\u001b[1;33m:\u001b[0m\u001b[1;33m\u001b[0m\u001b[1;33m\u001b[0m\u001b[0m\n",
      "\u001b[1;32mc:\\Users\\denis\\anaconda3\\lib\\site-packages\\threadpoolctl.py\u001b[0m in \u001b[0;36m_load_modules\u001b[1;34m(self)\u001b[0m\n\u001b[0;32m    371\u001b[0m             \u001b[0mself\u001b[0m\u001b[1;33m.\u001b[0m\u001b[0m_find_modules_with_dyld\u001b[0m\u001b[1;33m(\u001b[0m\u001b[1;33m)\u001b[0m\u001b[1;33m\u001b[0m\u001b[1;33m\u001b[0m\u001b[0m\n\u001b[0;32m    372\u001b[0m         \u001b[1;32melif\u001b[0m \u001b[0msys\u001b[0m\u001b[1;33m.\u001b[0m\u001b[0mplatform\u001b[0m \u001b[1;33m==\u001b[0m \u001b[1;34m\"win32\"\u001b[0m\u001b[1;33m:\u001b[0m\u001b[1;33m\u001b[0m\u001b[1;33m\u001b[0m\u001b[0m\n\u001b[1;32m--> 373\u001b[1;33m             \u001b[0mself\u001b[0m\u001b[1;33m.\u001b[0m\u001b[0m_find_modules_with_enum_process_module_ex\u001b[0m\u001b[1;33m(\u001b[0m\u001b[1;33m)\u001b[0m\u001b[1;33m\u001b[0m\u001b[1;33m\u001b[0m\u001b[0m\n\u001b[0m\u001b[0;32m    374\u001b[0m         \u001b[1;32melse\u001b[0m\u001b[1;33m:\u001b[0m\u001b[1;33m\u001b[0m\u001b[1;33m\u001b[0m\u001b[0m\n\u001b[0;32m    375\u001b[0m             \u001b[0mself\u001b[0m\u001b[1;33m.\u001b[0m\u001b[0m_find_modules_with_dl_iterate_phdr\u001b[0m\u001b[1;33m(\u001b[0m\u001b[1;33m)\u001b[0m\u001b[1;33m\u001b[0m\u001b[1;33m\u001b[0m\u001b[0m\n",
      "\u001b[1;32mc:\\Users\\denis\\anaconda3\\lib\\site-packages\\threadpoolctl.py\u001b[0m in \u001b[0;36m_find_modules_with_enum_process_module_ex\u001b[1;34m(self)\u001b[0m\n\u001b[0;32m    476\u001b[0m \u001b[1;33m\u001b[0m\u001b[0m\n\u001b[0;32m    477\u001b[0m                 \u001b[1;31m# Get the path of the current module\u001b[0m\u001b[1;33m\u001b[0m\u001b[1;33m\u001b[0m\u001b[0m\n\u001b[1;32m--> 478\u001b[1;33m                 if not ps_api.GetModuleFileNameExW(\n\u001b[0m\u001b[0;32m    479\u001b[0m                         \u001b[0mh_process\u001b[0m\u001b[1;33m,\u001b[0m \u001b[0mh_module\u001b[0m\u001b[1;33m,\u001b[0m \u001b[0mctypes\u001b[0m\u001b[1;33m.\u001b[0m\u001b[0mbyref\u001b[0m\u001b[1;33m(\u001b[0m\u001b[0mbuf\u001b[0m\u001b[1;33m)\u001b[0m\u001b[1;33m,\u001b[0m\u001b[1;33m\u001b[0m\u001b[1;33m\u001b[0m\u001b[0m\n\u001b[0;32m    480\u001b[0m                         ctypes.byref(n_size)):\n",
      "\u001b[1;31mKeyboardInterrupt\u001b[0m: "
     ]
    }
   ],
   "source": [
    "simulation(cutoff = 400, step = 7, n_clust = 7, features_dropped=None, log='yes')"
   ]
  },
  {
   "cell_type": "code",
   "execution_count": null,
   "metadata": {},
   "outputs": [
    {
     "data": {
      "text/plain": [
       "(    Nb_days       ARI  Nb_customers\n",
       " 0         0  1.000000         72875\n",
       " 1         7  0.986880         74566\n",
       " 2        14  0.985754         76029\n",
       " 3        21  0.989751         77627\n",
       " 4        28  0.989147         79087\n",
       " 5        35  0.594397         80451\n",
       " 6        42  0.986350         81878\n",
       " 7        49  0.988270         82240\n",
       " 8        56  0.985093         84010\n",
       " 9        63  0.983540         85637\n",
       " 10       70  0.980102         87352\n",
       " 11       77  0.977544         89300\n",
       " 12       84  0.980187         91169\n",
       " 13       91  0.980596         92687\n",
       " 14       98  0.979563         92713\n",
       " 15      105  0.977918         92722\n",
       " 16      112  0.978268         92732\n",
       " 17      119  0.973682         92734\n",
       " 18      126  0.978693         92735\n",
       " 19      133  0.973766         92736\n",
       " 20      140  0.978719         92737,\n",
       "            order_delivered_customer_date\n",
       " Delta_time                              \n",
       " 600        2018-06-04 02:11:47.227272704,\n",
       " Index(['KMeans', 'Customer', 'Log2_Satisf', 'Log2_Recency', 'Log2_Freq',\n",
       "        'Log2_Money', 'Log2_Delta_deliv', 'Log2_Pay_installments',\n",
       "        'Log2_Pay_sequential', 'Log2_|Lat-5|', 'Log2_|Long|'],\n",
       "       dtype='object'))"
      ]
     },
     "execution_count": 52,
     "metadata": {},
     "output_type": "execute_result"
    },
    {
     "data": {
      "image/png": "[encoded data removed]",
      "text/plain": [
       "<Figure size 576x396 with 1 Axes>"
      ]
     },
     "metadata": {},
     "output_type": "display_data"
    }
   ],
   "source": [
    "simulation(cutoff = 600, step = 7, n_clust = 6, features_dropped=None, log='yes')"
   ]
  },
  {
   "cell_type": "code",
   "execution_count": null,
   "metadata": {},
   "outputs": [
    {
     "data": {
      "text/plain": [
       "(    Nb_days       ARI  Nb_customers\n",
       " 0         0  1.000000         72875\n",
       " 1         7  0.992770         74566\n",
       " 2        14  0.565497         76029\n",
       " 3        21  0.567421         77627\n",
       " 4        28  0.994065         79087\n",
       " 5        35  0.568743         80451\n",
       " 6        42  0.566714         81878\n",
       " 7        49  0.988676         82240\n",
       " 8        56  0.984833         84010\n",
       " 9        63  0.982372         85637\n",
       " 10       70  0.571857         87352\n",
       " 11       77  0.567163         89300\n",
       " 12       84  0.566886         91169\n",
       " 13       91  0.884470         92687\n",
       " 14       98  0.564339         92713\n",
       " 15      105  0.885817         92722\n",
       " 16      112  0.564091         92732\n",
       " 17      119  0.564284         92734\n",
       " 18      126  0.567013         92735\n",
       " 19      133  0.886894         92736\n",
       " 20      140  0.886539         92737,\n",
       "            order_delivered_customer_date\n",
       " Delta_time                              \n",
       " 600        2018-06-04 02:11:47.227272704,\n",
       " Index(['KMeans', 'Customer', 'Satisfaction', 'Recency', 'Frequency', 'Money',\n",
       "        'Delta_deliv', 'Pay_installments', 'Pay_sequential', 'Lat', 'Long'],\n",
       "       dtype='object'))"
      ]
     },
     "execution_count": 53,
     "metadata": {},
     "output_type": "execute_result"
    },
    {
     "data": {
      "image/png": "[encoded data removed]",
      "text/plain": [
       "<Figure size 576x396 with 1 Axes>"
      ]
     },
     "metadata": {},
     "output_type": "display_data"
    }
   ],
   "source": [
    "simulation(cutoff = 600, step = 7, n_clust = 6, features_dropped=None, log=None)"
   ]
  },
  {
   "cell_type": "code",
   "execution_count": null,
   "metadata": {},
   "outputs": [
    {
     "data": {
      "text/plain": [
       "(    Nb_days       ARI  Nb_customers\n",
       " 0         0  1.000000         72875\n",
       " 1         7  0.992384         74566\n",
       " 2        14  0.992376         76029\n",
       " 3        21  0.994919         77627\n",
       " 4        28  0.817261         79087\n",
       " 5        35  0.991857         80451\n",
       " 6        42  0.989794         81878\n",
       " 7        49  0.987645         82240\n",
       " 8        56  0.985749         84010\n",
       " 9        63  0.982078         85637\n",
       " 10       70  0.968433         87352\n",
       " 11       77  0.889819         89300\n",
       " 12       84  0.885911         91169\n",
       " 13       91  0.894124         92687\n",
       " 14       98  0.893834         92713\n",
       " 15      105  0.893416         92722\n",
       " 16      112  0.891871         92732\n",
       " 17      119  0.891720         92734\n",
       " 18      126  0.894360         92735\n",
       " 19      133  0.892749         92736\n",
       " 20      140  0.891418         92737,\n",
       "            order_delivered_customer_date\n",
       " Delta_time                              \n",
       " 600        2018-06-04 02:11:47.227272704,\n",
       " Index(['KMeans', 'Customer', 'Satisfaction', 'Recency', 'Frequency', 'Money',\n",
       "        'Delta_deliv', 'Pay_installments', 'Pay_sequential', 'Lat', 'Long'],\n",
       "       dtype='object'))"
      ]
     },
     "execution_count": 54,
     "metadata": {},
     "output_type": "execute_result"
    },
    {
     "data": {
      "image/png": "[encoded data removed]",
      "text/plain": [
       "<Figure size 576x396 with 1 Axes>"
      ]
     },
     "metadata": {},
     "output_type": "display_data"
    }
   ],
   "source": [
    "simulation(cutoff = 600, step = 7, n_clust = 7, features_dropped=None, log=None)"
   ]
  },
  {
   "cell_type": "code",
   "execution_count": null,
   "metadata": {},
   "outputs": [
    {
     "data": {
      "text/plain": [
       "(    Nb_days       ARI  Nb_customers\n",
       " 0         0  1.000000         30079\n",
       " 1         7  0.920269         31125\n",
       " 2        14  0.987422         32516\n",
       " 3        21  0.920073         34199\n",
       " 4        28  0.912612         35988\n",
       " 5        35  0.908147         37773\n",
       " 6        42  0.900245         39075\n",
       " 7        49  0.894124         40066\n",
       " 8        56  0.740439         41600\n",
       " 9        63  0.882472         42889\n",
       " 10       70  0.878576         44425\n",
       " 11       77  0.771638         46089\n",
       " 12       84  0.875889         47516\n",
       " 13       91  0.873538         48367\n",
       " 14       98  0.872922         50073\n",
       " 15      105  0.869651         51686\n",
       " 16      112  0.867203         53122\n",
       " 17      119  0.863429         54462\n",
       " 18      126  0.862395         56064\n",
       " 19      133  0.853420         57763\n",
       " 20      140  0.854443         59297\n",
       " 21      147  0.851973         61221\n",
       " 22      154  0.850824         62973\n",
       " 23      161  0.845350         64648\n",
       " 24      168  0.843466         66134\n",
       " 25      175  0.843810         68073\n",
       " 26      182  0.842872         69983\n",
       " 27      189  0.845803         71882\n",
       " 28      196  0.844908         72525\n",
       " 29      203  0.848014         73837\n",
       " 30      210  0.852046         75390\n",
       " 31      217  0.850862         76985\n",
       " 32      224  0.847952         78419\n",
       " 33      231  0.844088         79896\n",
       " 34      238  0.839234         81268\n",
       " 35      245  0.833231         81936\n",
       " 36      252  0.827805         83265\n",
       " 37      259  0.705089         84966\n",
       " 38      266  0.822182         86621\n",
       " 39      273  0.875457         88484\n",
       " 40      280  0.879107         90380\n",
       " 41      287  0.878467         92369\n",
       " 42      294  0.880880         92711\n",
       " 43      301  0.880002         92720\n",
       " 44      308  0.875412         92729\n",
       " 45      315  0.878632         92734\n",
       " 46      322  0.880737         92735\n",
       " 47      329  0.880737         92735\n",
       " 48      336  0.879178         92737,\n",
       "            order_delivered_customer_date\n",
       " Delta_time                              \n",
       " 400        2017-11-16 00:32:22.655172352,\n",
       " Index(['KMeans', 'Customer', 'Satisfaction', 'Recency', 'Frequency', 'Money',\n",
       "        'Delta_deliv', 'Pay_installments', 'Pay_sequential', 'Lat', 'Long'],\n",
       "       dtype='object'))"
      ]
     },
     "execution_count": 55,
     "metadata": {},
     "output_type": "execute_result"
    },
    {
     "data": {
      "image/png": "[encoded data removed]",
      "text/plain": [
       "<Figure size 576x396 with 1 Axes>"
      ]
     },
     "metadata": {},
     "output_type": "display_data"
    }
   ],
   "source": [
    "simulation(cutoff = 400, step = 7, n_clust = 7, features_dropped=None, log=None)"
   ]
  },
  {
   "cell_type": "code",
   "execution_count": null,
   "metadata": {},
   "outputs": [
    {
     "data": {
      "text/plain": [
       "(    Nb_days       ARI  Nb_customers\n",
       " 0         0  1.000000         72875\n",
       " 1         7  0.997830         74566\n",
       " 2        14  0.994620         76029\n",
       " 3        21  0.995716         77627\n",
       " 4        28  0.991774         79087\n",
       " 5        35  0.990949         80451\n",
       " 6        42  0.990362         81878\n",
       " 7        49  0.987491         82240\n",
       " 8        56  0.974678         84010\n",
       " 9        63  0.979772         85637\n",
       " 10       70  0.971619         87352\n",
       " 11       77  0.864092         89300\n",
       " 12       84  0.843319         91169\n",
       " 13       91  0.849609         92687\n",
       " 14       98  0.850294         92713\n",
       " 15      105  0.856057         92722\n",
       " 16      112  0.859598         92732\n",
       " 17      119  0.849099         92734\n",
       " 18      126  0.850710         92735\n",
       " 19      133  0.851585         92736\n",
       " 20      140  0.858326         92737,\n",
       "            order_delivered_customer_date\n",
       " Delta_time                              \n",
       " 600        2018-06-04 02:11:47.227272704,\n",
       " Index(['KMeans', 'Customer', 'Satisfaction', 'Recency', 'Frequency', 'Money',\n",
       "        'Delta_deliv', 'Pay_installments', 'Pay_sequential', 'Lat', 'Long'],\n",
       "       dtype='object'))"
      ]
     },
     "execution_count": 57,
     "metadata": {},
     "output_type": "execute_result"
    },
    {
     "data": {
      "image/png": "[encoded data removed]",
      "text/plain": [
       "<Figure size 576x396 with 1 Axes>"
      ]
     },
     "metadata": {},
     "output_type": "display_data"
    }
   ],
   "source": [
    "simulation(cutoff = 600, step = 7, n_clust = 7, features_dropped=['Delta_deliv', 'Pay_installments'], log=None) #bien!"
   ]
  }
 ],
 "metadata": {
  "kernelspec": {
   "display_name": "base",
   "language": "python",
   "name": "python3"
  },
  "language_info": {
   "codemirror_mode": {
    "name": "ipython",
    "version": 3
   },
   "file_extension": ".py",
   "mimetype": "text/x-python",
   "name": "python",
   "nbconvert_exporter": "python",
   "pygments_lexer": "ipython3",
   "version": "3.9.7"
  },
  "orig_nbformat": 4,
  "vscode": {
   "interpreter": {
    "hash": "1f04826dcc96a008917c6ca87a3c8a3a31b12c4446b40a25ad8fed7744102fd3"
   }
  }
 },
 "nbformat": 4,
 "nbformat_minor": 2
}
